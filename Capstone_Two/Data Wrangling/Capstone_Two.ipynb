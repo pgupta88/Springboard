{
 "cells": [
  {
   "cell_type": "markdown",
   "metadata": {
    "colab_type": "text",
    "id": "ywf6Kl4BQg-F"
   },
   "source": [
    "# Data Wrangling: Capstone Two"
   ]
  },
  {
   "cell_type": "markdown",
   "metadata": {
    "colab_type": "text",
    "id": "xti-0wz4Qg-H"
   },
   "source": [
    "## Data Loading"
   ]
  },
  {
   "cell_type": "code",
   "execution_count": 8,
   "metadata": {
    "colab": {},
    "colab_type": "code",
    "id": "rTPp9KBoQg-J"
   },
   "outputs": [],
   "source": [
    "import numpy as np\n",
    "import pandas as pd"
   ]
  },
  {
   "cell_type": "markdown",
   "metadata": {
    "colab_type": "text",
    "id": "9kMhJ5sYQg-S"
   },
   "source": [
    "The data has been downloaded from the UCI repository (http://archive.ics.uci.edu/ml/datasets/Localization+Data+for+Person+Activity)\n"
   ]
  },
  {
   "cell_type": "code",
   "execution_count": 9,
   "metadata": {
    "colab": {},
    "colab_type": "code",
    "id": "rJH5goV0Qg-T"
   },
   "outputs": [],
   "source": [
    "df = pd.read_csv('D:\\\\Springboard\\\\Technical Project\\\\7_Capstone Two\\\\ConfLongDemo_JSI.txt', sep=',', header=None)\n",
    "df.columns = ['sequence_name', 'tag_identificator', 'time_stamp', 'date', 'x_coord', 'y_coord', 'z_coord', 'activity']"
   ]
  },
  {
   "cell_type": "code",
   "execution_count": 10,
   "metadata": {
    "colab": {
     "base_uri": "https://localhost:8080/",
     "height": 204
    },
    "colab_type": "code",
    "id": "oVl8-YTRQg-b",
    "outputId": "0c4a5a58-2546-4b07-a0dc-f929d20db29e"
   },
   "outputs": [
    {
     "data": {
      "text/html": [
       "<div>\n",
       "<style scoped>\n",
       "    .dataframe tbody tr th:only-of-type {\n",
       "        vertical-align: middle;\n",
       "    }\n",
       "\n",
       "    .dataframe tbody tr th {\n",
       "        vertical-align: top;\n",
       "    }\n",
       "\n",
       "    .dataframe thead th {\n",
       "        text-align: right;\n",
       "    }\n",
       "</style>\n",
       "<table border=\"1\" class=\"dataframe\">\n",
       "  <thead>\n",
       "    <tr style=\"text-align: right;\">\n",
       "      <th></th>\n",
       "      <th>sequence_name</th>\n",
       "      <th>tag_identificator</th>\n",
       "      <th>time_stamp</th>\n",
       "      <th>date</th>\n",
       "      <th>x_coord</th>\n",
       "      <th>y_coord</th>\n",
       "      <th>z_coord</th>\n",
       "      <th>activity</th>\n",
       "    </tr>\n",
       "  </thead>\n",
       "  <tbody>\n",
       "    <tr>\n",
       "      <th>0</th>\n",
       "      <td>A01</td>\n",
       "      <td>010-000-024-033</td>\n",
       "      <td>633790226051280329</td>\n",
       "      <td>27.05.2009 14:03:25:127</td>\n",
       "      <td>4.062931</td>\n",
       "      <td>1.892434</td>\n",
       "      <td>0.507425</td>\n",
       "      <td>walking</td>\n",
       "    </tr>\n",
       "    <tr>\n",
       "      <th>1</th>\n",
       "      <td>A01</td>\n",
       "      <td>020-000-033-111</td>\n",
       "      <td>633790226051820913</td>\n",
       "      <td>27.05.2009 14:03:25:183</td>\n",
       "      <td>4.291954</td>\n",
       "      <td>1.781140</td>\n",
       "      <td>1.344495</td>\n",
       "      <td>walking</td>\n",
       "    </tr>\n",
       "    <tr>\n",
       "      <th>2</th>\n",
       "      <td>A01</td>\n",
       "      <td>020-000-032-221</td>\n",
       "      <td>633790226052091205</td>\n",
       "      <td>27.05.2009 14:03:25:210</td>\n",
       "      <td>4.359101</td>\n",
       "      <td>1.826456</td>\n",
       "      <td>0.968821</td>\n",
       "      <td>walking</td>\n",
       "    </tr>\n",
       "    <tr>\n",
       "      <th>3</th>\n",
       "      <td>A01</td>\n",
       "      <td>010-000-024-033</td>\n",
       "      <td>633790226052361498</td>\n",
       "      <td>27.05.2009 14:03:25:237</td>\n",
       "      <td>4.087835</td>\n",
       "      <td>1.879999</td>\n",
       "      <td>0.466983</td>\n",
       "      <td>walking</td>\n",
       "    </tr>\n",
       "    <tr>\n",
       "      <th>4</th>\n",
       "      <td>A01</td>\n",
       "      <td>010-000-030-096</td>\n",
       "      <td>633790226052631792</td>\n",
       "      <td>27.05.2009 14:03:25:263</td>\n",
       "      <td>4.324462</td>\n",
       "      <td>2.072460</td>\n",
       "      <td>0.488065</td>\n",
       "      <td>walking</td>\n",
       "    </tr>\n",
       "  </tbody>\n",
       "</table>\n",
       "</div>"
      ],
      "text/plain": [
       "  sequence_name tag_identificator          time_stamp  \\\n",
       "0           A01   010-000-024-033  633790226051280329   \n",
       "1           A01   020-000-033-111  633790226051820913   \n",
       "2           A01   020-000-032-221  633790226052091205   \n",
       "3           A01   010-000-024-033  633790226052361498   \n",
       "4           A01   010-000-030-096  633790226052631792   \n",
       "\n",
       "                      date   x_coord   y_coord   z_coord activity  \n",
       "0  27.05.2009 14:03:25:127  4.062931  1.892434  0.507425  walking  \n",
       "1  27.05.2009 14:03:25:183  4.291954  1.781140  1.344495  walking  \n",
       "2  27.05.2009 14:03:25:210  4.359101  1.826456  0.968821  walking  \n",
       "3  27.05.2009 14:03:25:237  4.087835  1.879999  0.466983  walking  \n",
       "4  27.05.2009 14:03:25:263  4.324462  2.072460  0.488065  walking  "
      ]
     },
     "execution_count": 10,
     "metadata": {},
     "output_type": "execute_result"
    }
   ],
   "source": [
    "df.head()"
   ]
  },
  {
   "cell_type": "markdown",
   "metadata": {
    "colab_type": "text",
    "id": "BKRN39jZQg-m"
   },
   "source": [
    "Every column name is explained in the subsequent cells which is also downloaded form UCI repository (http://archive.ics.uci.edu/ml/datasets/Localization+Data+for+Person+Activity)"
   ]
  },
  {
   "cell_type": "code",
   "execution_count": 11,
   "metadata": {
    "scrolled": true
   },
   "outputs": [
    {
     "name": "stdout",
     "output_type": "stream",
     "text": [
      "1. Title: Localization Data for Posture Reconstruction\n",
      "2. Sources:\n",
      "\t- Creators: Mitja Lustrek (mitja.lustrek@ijs.si), Bostjan Kaluza (bostjan.kaluza@ijs.si), Rok Piltaver (rok.piltaver@ijs.si), Jana Krivec (jana.krivec@ijs.si), Vedrana Vidulin (vedrana.vidulin@ijs.si)  \n",
      "\t\t- Jozef Stefan Institute, Jamova cesta 39, 1000 Ljubljana, Slovenija\n",
      "\t- Donor: Bozidara Cvetkovic (boza.cvetkovic@ijs.si)\n",
      "    - Date received: October, 2010\n",
      "3. Past Usage:\n",
      "\t- B. Kaluza, V. Mirchevska, E. Dovgan, M. Lustrek, M. Gams, An Agent-based Approach to Care in Independent Living, International Joint Conference on Ambient Intelligence (AmI-10), Malaga, Spain, In press \n",
      "\t\t- Results: detecting falls : Machine learning agents: 72%, Expert-knowledge agents: 88%, Meta-prediction agents: 91.3%\n",
      "\t\t\n",
      "4. Relevant Information Paragraph:\n",
      "   People used for recording of the data were wearing four tags (ankle left, ankle right, belt and chest). \n",
      "   Each instance is a localization data for one of the tags. The tag can be identified by one of the attributes.\n",
      "   \n",
      "5. Number of Instances: 164860\n",
      "\n",
      "6. Number of Attributes: 8 \n",
      "\n",
      "7. For Each Attribute: \n",
      "\n",
      "   Instance example: A01,020-000-033-111,633790226057226795,27.05.2009 14:03:25:723,4.292500972747803,2.0738532543182373,1.36650812625885,walking\n",
      "\n",
      "   1) Sequence Name {A01,A02,A03,A04,A05,B01,B02,B03,B04,B05,C01,C02,C03,C04,C05,D01,D02,D03,D04,D05,E01,E02,E03,E04,E05} (Nominal)\n",
      "      - A, B, C, D, E  = 5 people\n",
      "   2) Tag identificator {010-000-024-033,020-000-033-111,020-000-032-221,010-000-030-096}\t(Nominal)\n",
      "\t  - ANKLE_LEFT = 010-000-024-033\n",
      "\t  - ANKLE_RIGHT = 010-000-030-096\n",
      "\t  - CHEST = 020-000-033-111\n",
      "      - BELT = 020-000-032-221\n",
      "   3) timestamp (Numeric) all unique\n",
      "   4) date FORMAT = dd.MM.yyyy HH:mm:ss:SSS (Date) \n",
      "   5) x coordinate of the tag (Numeric)\n",
      "   6) y coordinate of the tag (Numeric)\n",
      "   7) z coordinate of the tag (Numeric)\n",
      "   8) activity  {walking,falling,'lying down',lying,'sitting down',sitting,'standing up from lying','on all fours','sitting on the ground','standing up from sitting','standing up from sitting on the ground'} (Nominal)\n",
      "   \n",
      "8. Missing Attribute Values: none\n",
      "\n",
      "9. Class Distribution:\n",
      "\tCLASS\t\t\t\t\t\t\t\t\t\t\tNUMBER OF INSTANCES PER CLASS\n",
      "\t- walking\t\t\t\t\t\t\t\t\t\t32710\n",
      "\t- falling\t\t\t\t\t\t\t\t\t\t2973\n",
      "\t-'lying down'\t\t\t\t\t\t\t\t\t6168\t\n",
      "\t- lying\t\t\t\t\t\t\t\t\t\t\t54480\n",
      "\t- 'sitting down'\t\t\t\t\t\t\t\t1706\n",
      "\t- sitting\t\t\t\t\t\t\t\t\t\t27244\n",
      "\t- 'standing up from lying' \t\t\t\t\t\t18361\n",
      "\t- 'on all fours'\t\t\t\t\t\t\t\t5210\n",
      "\t- 'sitting on the ground'\t\t\t\t\t\t11779\n",
      "\t- 'standing up from sitting'\t\t\t\t\t1381\n",
      "\t- 'standing up from sitting on the ground'\t\t2848\n",
      "\n"
     ]
    }
   ],
   "source": [
    "with open('D:\\\\Springboard\\\\Technical Project\\\\7_Capstone Two\\\\dataSetDescription.names', 'r') as file:\n",
    "    print(file.read())"
   ]
  },
  {
   "cell_type": "code",
   "execution_count": 12,
   "metadata": {
    "colab": {
     "base_uri": "https://localhost:8080/",
     "height": 204
    },
    "colab_type": "code",
    "id": "Q-AkHPKVQg-u",
    "outputId": "a7217ba8-622d-44ec-a759-73b8eb5ee2ec"
   },
   "outputs": [
    {
     "data": {
      "text/html": [
       "<div>\n",
       "<style scoped>\n",
       "    .dataframe tbody tr th:only-of-type {\n",
       "        vertical-align: middle;\n",
       "    }\n",
       "\n",
       "    .dataframe tbody tr th {\n",
       "        vertical-align: top;\n",
       "    }\n",
       "\n",
       "    .dataframe thead th {\n",
       "        text-align: right;\n",
       "    }\n",
       "</style>\n",
       "<table border=\"1\" class=\"dataframe\">\n",
       "  <thead>\n",
       "    <tr style=\"text-align: right;\">\n",
       "      <th></th>\n",
       "      <th>sequence_name</th>\n",
       "      <th>tag_identificator</th>\n",
       "      <th>date</th>\n",
       "      <th>x_coord</th>\n",
       "      <th>y_coord</th>\n",
       "      <th>z_coord</th>\n",
       "      <th>activity</th>\n",
       "    </tr>\n",
       "  </thead>\n",
       "  <tbody>\n",
       "    <tr>\n",
       "      <th>0</th>\n",
       "      <td>A01</td>\n",
       "      <td>010-000-024-033</td>\n",
       "      <td>27.05.2009 14:03:25:127</td>\n",
       "      <td>4.062931</td>\n",
       "      <td>1.892434</td>\n",
       "      <td>0.507425</td>\n",
       "      <td>walking</td>\n",
       "    </tr>\n",
       "    <tr>\n",
       "      <th>1</th>\n",
       "      <td>A01</td>\n",
       "      <td>020-000-033-111</td>\n",
       "      <td>27.05.2009 14:03:25:183</td>\n",
       "      <td>4.291954</td>\n",
       "      <td>1.781140</td>\n",
       "      <td>1.344495</td>\n",
       "      <td>walking</td>\n",
       "    </tr>\n",
       "    <tr>\n",
       "      <th>2</th>\n",
       "      <td>A01</td>\n",
       "      <td>020-000-032-221</td>\n",
       "      <td>27.05.2009 14:03:25:210</td>\n",
       "      <td>4.359101</td>\n",
       "      <td>1.826456</td>\n",
       "      <td>0.968821</td>\n",
       "      <td>walking</td>\n",
       "    </tr>\n",
       "    <tr>\n",
       "      <th>3</th>\n",
       "      <td>A01</td>\n",
       "      <td>010-000-024-033</td>\n",
       "      <td>27.05.2009 14:03:25:237</td>\n",
       "      <td>4.087835</td>\n",
       "      <td>1.879999</td>\n",
       "      <td>0.466983</td>\n",
       "      <td>walking</td>\n",
       "    </tr>\n",
       "    <tr>\n",
       "      <th>4</th>\n",
       "      <td>A01</td>\n",
       "      <td>010-000-030-096</td>\n",
       "      <td>27.05.2009 14:03:25:263</td>\n",
       "      <td>4.324462</td>\n",
       "      <td>2.072460</td>\n",
       "      <td>0.488065</td>\n",
       "      <td>walking</td>\n",
       "    </tr>\n",
       "  </tbody>\n",
       "</table>\n",
       "</div>"
      ],
      "text/plain": [
       "  sequence_name tag_identificator                     date   x_coord  \\\n",
       "0           A01   010-000-024-033  27.05.2009 14:03:25:127  4.062931   \n",
       "1           A01   020-000-033-111  27.05.2009 14:03:25:183  4.291954   \n",
       "2           A01   020-000-032-221  27.05.2009 14:03:25:210  4.359101   \n",
       "3           A01   010-000-024-033  27.05.2009 14:03:25:237  4.087835   \n",
       "4           A01   010-000-030-096  27.05.2009 14:03:25:263  4.324462   \n",
       "\n",
       "    y_coord   z_coord activity  \n",
       "0  1.892434  0.507425  walking  \n",
       "1  1.781140  1.344495  walking  \n",
       "2  1.826456  0.968821  walking  \n",
       "3  1.879999  0.466983  walking  \n",
       "4  2.072460  0.488065  walking  "
      ]
     },
     "execution_count": 12,
     "metadata": {},
     "output_type": "execute_result"
    }
   ],
   "source": [
    "# Let's look at the 3rd column which is time_stamp. It is having a unique value and doesn't really helps in modelling \n",
    "# as we have a column date which contains time and date both. Hence let's delete this column\n",
    "df.drop(columns='time_stamp', axis=1, inplace=True)\n",
    "df.head()"
   ]
  },
  {
   "cell_type": "code",
   "execution_count": 13,
   "metadata": {
    "colab": {
     "base_uri": "https://localhost:8080/",
     "height": 255
    },
    "colab_type": "code",
    "id": "Bs_ShSdlQg-0",
    "outputId": "ef8f983f-2e78-463a-928a-a62f373844b5"
   },
   "outputs": [
    {
     "name": "stdout",
     "output_type": "stream",
     "text": [
      "<class 'pandas.core.frame.DataFrame'>\n",
      "RangeIndex: 164860 entries, 0 to 164859\n",
      "Data columns (total 7 columns):\n",
      " #   Column             Non-Null Count   Dtype  \n",
      "---  ------             --------------   -----  \n",
      " 0   sequence_name      164860 non-null  object \n",
      " 1   tag_identificator  164860 non-null  object \n",
      " 2   date               164860 non-null  object \n",
      " 3   x_coord            164860 non-null  float64\n",
      " 4   y_coord            164860 non-null  float64\n",
      " 5   z_coord            164860 non-null  float64\n",
      " 6   activity           164860 non-null  object \n",
      "dtypes: float64(3), object(4)\n",
      "memory usage: 8.8+ MB\n"
     ]
    }
   ],
   "source": [
    "# Let's look at the structure of complete dataset\n",
    "df.info()"
   ]
  },
  {
   "cell_type": "code",
   "execution_count": 14,
   "metadata": {
    "colab": {
     "base_uri": "https://localhost:8080/",
     "height": 34
    },
    "colab_type": "code",
    "id": "FQn_YsxcQg-8",
    "outputId": "f3d5ae92-8101-498d-94d6-4749362952f8"
   },
   "outputs": [
    {
     "name": "stdout",
     "output_type": "stream",
     "text": [
      "datetime64[ns]\n"
     ]
    }
   ],
   "source": [
    "# The date column in dataframe is of type object which should be a datetime object. Let's convert\n",
    "df['date'] = pd.to_datetime(df['date'], format='%d.%m.%Y %H:%M:%S:%f')\n",
    "print(df.date.dtype)"
   ]
  },
  {
   "cell_type": "code",
   "execution_count": 15,
   "metadata": {
    "colab": {
     "base_uri": "https://localhost:8080/",
     "height": 204
    },
    "colab_type": "code",
    "id": "2IgDUIyeQg_F",
    "outputId": "ba8bbe63-4f00-4387-c5e7-e0ebfcd749f1"
   },
   "outputs": [
    {
     "data": {
      "text/html": [
       "<div>\n",
       "<style scoped>\n",
       "    .dataframe tbody tr th:only-of-type {\n",
       "        vertical-align: middle;\n",
       "    }\n",
       "\n",
       "    .dataframe tbody tr th {\n",
       "        vertical-align: top;\n",
       "    }\n",
       "\n",
       "    .dataframe thead th {\n",
       "        text-align: right;\n",
       "    }\n",
       "</style>\n",
       "<table border=\"1\" class=\"dataframe\">\n",
       "  <thead>\n",
       "    <tr style=\"text-align: right;\">\n",
       "      <th></th>\n",
       "      <th>sequence_name</th>\n",
       "      <th>tag_identificator</th>\n",
       "      <th>date</th>\n",
       "      <th>x_coord</th>\n",
       "      <th>y_coord</th>\n",
       "      <th>z_coord</th>\n",
       "      <th>activity</th>\n",
       "    </tr>\n",
       "  </thead>\n",
       "  <tbody>\n",
       "    <tr>\n",
       "      <th>0</th>\n",
       "      <td>A01</td>\n",
       "      <td>010-000-024-033</td>\n",
       "      <td>2009-05-27 14:03:25.127</td>\n",
       "      <td>4.062931</td>\n",
       "      <td>1.892434</td>\n",
       "      <td>0.507425</td>\n",
       "      <td>walking</td>\n",
       "    </tr>\n",
       "    <tr>\n",
       "      <th>1</th>\n",
       "      <td>A01</td>\n",
       "      <td>020-000-033-111</td>\n",
       "      <td>2009-05-27 14:03:25.183</td>\n",
       "      <td>4.291954</td>\n",
       "      <td>1.781140</td>\n",
       "      <td>1.344495</td>\n",
       "      <td>walking</td>\n",
       "    </tr>\n",
       "    <tr>\n",
       "      <th>2</th>\n",
       "      <td>A01</td>\n",
       "      <td>020-000-032-221</td>\n",
       "      <td>2009-05-27 14:03:25.210</td>\n",
       "      <td>4.359101</td>\n",
       "      <td>1.826456</td>\n",
       "      <td>0.968821</td>\n",
       "      <td>walking</td>\n",
       "    </tr>\n",
       "    <tr>\n",
       "      <th>3</th>\n",
       "      <td>A01</td>\n",
       "      <td>010-000-024-033</td>\n",
       "      <td>2009-05-27 14:03:25.237</td>\n",
       "      <td>4.087835</td>\n",
       "      <td>1.879999</td>\n",
       "      <td>0.466983</td>\n",
       "      <td>walking</td>\n",
       "    </tr>\n",
       "    <tr>\n",
       "      <th>4</th>\n",
       "      <td>A01</td>\n",
       "      <td>010-000-030-096</td>\n",
       "      <td>2009-05-27 14:03:25.263</td>\n",
       "      <td>4.324462</td>\n",
       "      <td>2.072460</td>\n",
       "      <td>0.488065</td>\n",
       "      <td>walking</td>\n",
       "    </tr>\n",
       "  </tbody>\n",
       "</table>\n",
       "</div>"
      ],
      "text/plain": [
       "  sequence_name tag_identificator                    date   x_coord   y_coord  \\\n",
       "0           A01   010-000-024-033 2009-05-27 14:03:25.127  4.062931  1.892434   \n",
       "1           A01   020-000-033-111 2009-05-27 14:03:25.183  4.291954  1.781140   \n",
       "2           A01   020-000-032-221 2009-05-27 14:03:25.210  4.359101  1.826456   \n",
       "3           A01   010-000-024-033 2009-05-27 14:03:25.237  4.087835  1.879999   \n",
       "4           A01   010-000-030-096 2009-05-27 14:03:25.263  4.324462  2.072460   \n",
       "\n",
       "    z_coord activity  \n",
       "0  0.507425  walking  \n",
       "1  1.344495  walking  \n",
       "2  0.968821  walking  \n",
       "3  0.466983  walking  \n",
       "4  0.488065  walking  "
      ]
     },
     "execution_count": 15,
     "metadata": {},
     "output_type": "execute_result"
    }
   ],
   "source": [
    "df.head()"
   ]
  },
  {
   "cell_type": "markdown",
   "metadata": {
    "colab_type": "text",
    "id": "-Rt--dQ4Qg_O"
   },
   "source": [
    "So, in the above cell date column has been converted into datetime object and now lets seperate date and time"
   ]
  },
  {
   "cell_type": "code",
   "execution_count": 16,
   "metadata": {
    "colab": {
     "base_uri": "https://localhost:8080/",
     "height": 34
    },
    "colab_type": "code",
    "id": "-t1vBFsVQg_P",
    "outputId": "641778cc-ac1c-4cf8-a8da-4c86ee8271ad"
   },
   "outputs": [
    {
     "data": {
      "text/plain": [
       "array([datetime.date(2009, 5, 27)], dtype=object)"
      ]
     },
     "execution_count": 16,
     "metadata": {},
     "output_type": "execute_result"
    }
   ],
   "source": [
    "df['date'].dt.date.unique()"
   ]
  },
  {
   "cell_type": "markdown",
   "metadata": {
    "colab_type": "text",
    "id": "Jnz_AmEFQg_X"
   },
   "source": [
    "So there is only one date i.e all the readings have been taken from a single day"
   ]
  },
  {
   "cell_type": "code",
   "execution_count": 17,
   "metadata": {
    "colab": {
     "base_uri": "https://localhost:8080/",
     "height": 68
    },
    "colab_type": "code",
    "id": "oWdXKoXLQg_Z",
    "outputId": "bcf32d62-bc46-45a1-81b8-caf376967f83"
   },
   "outputs": [
    {
     "data": {
      "text/plain": [
       "array(['A01', 'A02', 'A03', 'A04', 'A05', 'B01', 'B02', 'B03', 'B04',\n",
       "       'B05', 'C01', 'C02', 'C03', 'C04', 'C05', 'D01', 'D02', 'D03',\n",
       "       'D04', 'D05', 'E01', 'E02', 'E03', 'E04', 'E05'], dtype=object)"
      ]
     },
     "execution_count": 17,
     "metadata": {},
     "output_type": "execute_result"
    }
   ],
   "source": [
    "# Explore the sequence_name column\n",
    "df['sequence_name'].unique()"
   ]
  },
  {
   "cell_type": "code",
   "execution_count": 18,
   "metadata": {
    "colab": {
     "base_uri": "https://localhost:8080/",
     "height": 204
    },
    "colab_type": "code",
    "id": "g_prhPF9Qg_k",
    "outputId": "b16723f9-0b0c-418e-8196-cf1ed0a05bae"
   },
   "outputs": [
    {
     "data": {
      "text/html": [
       "<div>\n",
       "<style scoped>\n",
       "    .dataframe tbody tr th:only-of-type {\n",
       "        vertical-align: middle;\n",
       "    }\n",
       "\n",
       "    .dataframe tbody tr th {\n",
       "        vertical-align: top;\n",
       "    }\n",
       "\n",
       "    .dataframe thead th {\n",
       "        text-align: right;\n",
       "    }\n",
       "</style>\n",
       "<table border=\"1\" class=\"dataframe\">\n",
       "  <thead>\n",
       "    <tr style=\"text-align: right;\">\n",
       "      <th></th>\n",
       "      <th>sequence_name</th>\n",
       "      <th>tag_identificator</th>\n",
       "      <th>date</th>\n",
       "      <th>x_coord</th>\n",
       "      <th>y_coord</th>\n",
       "      <th>z_coord</th>\n",
       "      <th>activity</th>\n",
       "    </tr>\n",
       "  </thead>\n",
       "  <tbody>\n",
       "    <tr>\n",
       "      <th>5830</th>\n",
       "      <td>A02</td>\n",
       "      <td>010-000-024-033</td>\n",
       "      <td>2009-05-27 14:10:24.167</td>\n",
       "      <td>3.843615</td>\n",
       "      <td>2.038318</td>\n",
       "      <td>0.449618</td>\n",
       "      <td>walking</td>\n",
       "    </tr>\n",
       "    <tr>\n",
       "      <th>5831</th>\n",
       "      <td>A02</td>\n",
       "      <td>010-000-030-096</td>\n",
       "      <td>2009-05-27 14:10:24.193</td>\n",
       "      <td>3.288137</td>\n",
       "      <td>1.776004</td>\n",
       "      <td>0.217291</td>\n",
       "      <td>walking</td>\n",
       "    </tr>\n",
       "    <tr>\n",
       "      <th>5832</th>\n",
       "      <td>A02</td>\n",
       "      <td>020-000-033-111</td>\n",
       "      <td>2009-05-27 14:10:24.223</td>\n",
       "      <td>3.790550</td>\n",
       "      <td>2.108945</td>\n",
       "      <td>1.217866</td>\n",
       "      <td>walking</td>\n",
       "    </tr>\n",
       "    <tr>\n",
       "      <th>5833</th>\n",
       "      <td>A02</td>\n",
       "      <td>020-000-032-221</td>\n",
       "      <td>2009-05-27 14:10:24.250</td>\n",
       "      <td>4.826080</td>\n",
       "      <td>3.061596</td>\n",
       "      <td>2.016236</td>\n",
       "      <td>walking</td>\n",
       "    </tr>\n",
       "    <tr>\n",
       "      <th>5834</th>\n",
       "      <td>A02</td>\n",
       "      <td>010-000-024-033</td>\n",
       "      <td>2009-05-27 14:10:24.277</td>\n",
       "      <td>3.889177</td>\n",
       "      <td>1.983232</td>\n",
       "      <td>0.341687</td>\n",
       "      <td>walking</td>\n",
       "    </tr>\n",
       "  </tbody>\n",
       "</table>\n",
       "</div>"
      ],
      "text/plain": [
       "     sequence_name tag_identificator                    date   x_coord  \\\n",
       "5830           A02   010-000-024-033 2009-05-27 14:10:24.167  3.843615   \n",
       "5831           A02   010-000-030-096 2009-05-27 14:10:24.193  3.288137   \n",
       "5832           A02   020-000-033-111 2009-05-27 14:10:24.223  3.790550   \n",
       "5833           A02   020-000-032-221 2009-05-27 14:10:24.250  4.826080   \n",
       "5834           A02   010-000-024-033 2009-05-27 14:10:24.277  3.889177   \n",
       "\n",
       "       y_coord   z_coord activity  \n",
       "5830  2.038318  0.449618  walking  \n",
       "5831  1.776004  0.217291  walking  \n",
       "5832  2.108945  1.217866  walking  \n",
       "5833  3.061596  2.016236  walking  \n",
       "5834  1.983232  0.341687  walking  "
      ]
     },
     "execution_count": 18,
     "metadata": {},
     "output_type": "execute_result"
    }
   ],
   "source": [
    "df[df['sequence_name']=='A02'].head()"
   ]
  },
  {
   "cell_type": "code",
   "execution_count": 19,
   "metadata": {
    "colab": {
     "base_uri": "https://localhost:8080/",
     "height": 204
    },
    "colab_type": "code",
    "id": "OZNHqgrTQg_w",
    "outputId": "79177a74-69c5-4fb3-e8d2-5a40aa9b4d04"
   },
   "outputs": [
    {
     "data": {
      "text/html": [
       "<div>\n",
       "<style scoped>\n",
       "    .dataframe tbody tr th:only-of-type {\n",
       "        vertical-align: middle;\n",
       "    }\n",
       "\n",
       "    .dataframe tbody tr th {\n",
       "        vertical-align: top;\n",
       "    }\n",
       "\n",
       "    .dataframe thead th {\n",
       "        text-align: right;\n",
       "    }\n",
       "</style>\n",
       "<table border=\"1\" class=\"dataframe\">\n",
       "  <thead>\n",
       "    <tr style=\"text-align: right;\">\n",
       "      <th></th>\n",
       "      <th>sequence_name</th>\n",
       "      <th>tag_identificator</th>\n",
       "      <th>date</th>\n",
       "      <th>x_coord</th>\n",
       "      <th>y_coord</th>\n",
       "      <th>z_coord</th>\n",
       "      <th>activity</th>\n",
       "    </tr>\n",
       "  </thead>\n",
       "  <tbody>\n",
       "    <tr>\n",
       "      <th>11521</th>\n",
       "      <td>A03</td>\n",
       "      <td>020-000-033-111</td>\n",
       "      <td>2009-05-27 14:17:21.210</td>\n",
       "      <td>4.328097</td>\n",
       "      <td>2.002088</td>\n",
       "      <td>1.324070</td>\n",
       "      <td>walking</td>\n",
       "    </tr>\n",
       "    <tr>\n",
       "      <th>11522</th>\n",
       "      <td>A03</td>\n",
       "      <td>020-000-032-221</td>\n",
       "      <td>2009-05-27 14:17:21.237</td>\n",
       "      <td>4.315547</td>\n",
       "      <td>1.879915</td>\n",
       "      <td>1.210340</td>\n",
       "      <td>walking</td>\n",
       "    </tr>\n",
       "    <tr>\n",
       "      <th>11523</th>\n",
       "      <td>A03</td>\n",
       "      <td>010-000-024-033</td>\n",
       "      <td>2009-05-27 14:17:21.263</td>\n",
       "      <td>4.226767</td>\n",
       "      <td>1.948880</td>\n",
       "      <td>0.504358</td>\n",
       "      <td>walking</td>\n",
       "    </tr>\n",
       "    <tr>\n",
       "      <th>11524</th>\n",
       "      <td>A03</td>\n",
       "      <td>020-000-033-111</td>\n",
       "      <td>2009-05-27 14:17:21.320</td>\n",
       "      <td>4.316218</td>\n",
       "      <td>2.050180</td>\n",
       "      <td>1.324045</td>\n",
       "      <td>walking</td>\n",
       "    </tr>\n",
       "    <tr>\n",
       "      <th>11525</th>\n",
       "      <td>A03</td>\n",
       "      <td>020-000-032-221</td>\n",
       "      <td>2009-05-27 14:17:21.347</td>\n",
       "      <td>4.259573</td>\n",
       "      <td>1.815605</td>\n",
       "      <td>1.097739</td>\n",
       "      <td>walking</td>\n",
       "    </tr>\n",
       "  </tbody>\n",
       "</table>\n",
       "</div>"
      ],
      "text/plain": [
       "      sequence_name tag_identificator                    date   x_coord  \\\n",
       "11521           A03   020-000-033-111 2009-05-27 14:17:21.210  4.328097   \n",
       "11522           A03   020-000-032-221 2009-05-27 14:17:21.237  4.315547   \n",
       "11523           A03   010-000-024-033 2009-05-27 14:17:21.263  4.226767   \n",
       "11524           A03   020-000-033-111 2009-05-27 14:17:21.320  4.316218   \n",
       "11525           A03   020-000-032-221 2009-05-27 14:17:21.347  4.259573   \n",
       "\n",
       "        y_coord   z_coord activity  \n",
       "11521  2.002088  1.324070  walking  \n",
       "11522  1.879915  1.210340  walking  \n",
       "11523  1.948880  0.504358  walking  \n",
       "11524  2.050180  1.324045  walking  \n",
       "11525  1.815605  1.097739  walking  "
      ]
     },
     "execution_count": 19,
     "metadata": {},
     "output_type": "execute_result"
    }
   ],
   "source": [
    "df[df['sequence_name']=='A03'].head()"
   ]
  },
  {
   "cell_type": "code",
   "execution_count": 20,
   "metadata": {
    "colab": {
     "base_uri": "https://localhost:8080/",
     "height": 204
    },
    "colab_type": "code",
    "id": "g018ZKYuQg_2",
    "outputId": "55ddfa1a-35d2-4860-d136-36e96559454b"
   },
   "outputs": [
    {
     "data": {
      "text/html": [
       "<div>\n",
       "<style scoped>\n",
       "    .dataframe tbody tr th:only-of-type {\n",
       "        vertical-align: middle;\n",
       "    }\n",
       "\n",
       "    .dataframe tbody tr th {\n",
       "        vertical-align: top;\n",
       "    }\n",
       "\n",
       "    .dataframe thead th {\n",
       "        text-align: right;\n",
       "    }\n",
       "</style>\n",
       "<table border=\"1\" class=\"dataframe\">\n",
       "  <thead>\n",
       "    <tr style=\"text-align: right;\">\n",
       "      <th></th>\n",
       "      <th>sequence_name</th>\n",
       "      <th>tag_identificator</th>\n",
       "      <th>date</th>\n",
       "      <th>x_coord</th>\n",
       "      <th>y_coord</th>\n",
       "      <th>z_coord</th>\n",
       "      <th>activity</th>\n",
       "    </tr>\n",
       "  </thead>\n",
       "  <tbody>\n",
       "    <tr>\n",
       "      <th>16842</th>\n",
       "      <td>A03</td>\n",
       "      <td>020-000-032-221</td>\n",
       "      <td>2009-05-27 14:20:16.880</td>\n",
       "      <td>4.450048</td>\n",
       "      <td>2.130104</td>\n",
       "      <td>1.230467</td>\n",
       "      <td>walking</td>\n",
       "    </tr>\n",
       "    <tr>\n",
       "      <th>16843</th>\n",
       "      <td>A03</td>\n",
       "      <td>010-000-030-096</td>\n",
       "      <td>2009-05-27 14:20:16.907</td>\n",
       "      <td>4.180480</td>\n",
       "      <td>1.988581</td>\n",
       "      <td>0.692231</td>\n",
       "      <td>walking</td>\n",
       "    </tr>\n",
       "    <tr>\n",
       "      <th>16844</th>\n",
       "      <td>A03</td>\n",
       "      <td>010-000-024-033</td>\n",
       "      <td>2009-05-27 14:20:16.937</td>\n",
       "      <td>3.686352</td>\n",
       "      <td>1.831974</td>\n",
       "      <td>0.171011</td>\n",
       "      <td>walking</td>\n",
       "    </tr>\n",
       "    <tr>\n",
       "      <th>16845</th>\n",
       "      <td>A03</td>\n",
       "      <td>020-000-033-111</td>\n",
       "      <td>2009-05-27 14:20:16.953</td>\n",
       "      <td>3.896956</td>\n",
       "      <td>1.778244</td>\n",
       "      <td>1.315302</td>\n",
       "      <td>walking</td>\n",
       "    </tr>\n",
       "    <tr>\n",
       "      <th>16846</th>\n",
       "      <td>A03</td>\n",
       "      <td>020-000-032-221</td>\n",
       "      <td>2009-05-27 14:20:16.980</td>\n",
       "      <td>4.496296</td>\n",
       "      <td>2.179232</td>\n",
       "      <td>1.192686</td>\n",
       "      <td>walking</td>\n",
       "    </tr>\n",
       "  </tbody>\n",
       "</table>\n",
       "</div>"
      ],
      "text/plain": [
       "      sequence_name tag_identificator                    date   x_coord  \\\n",
       "16842           A03   020-000-032-221 2009-05-27 14:20:16.880  4.450048   \n",
       "16843           A03   010-000-030-096 2009-05-27 14:20:16.907  4.180480   \n",
       "16844           A03   010-000-024-033 2009-05-27 14:20:16.937  3.686352   \n",
       "16845           A03   020-000-033-111 2009-05-27 14:20:16.953  3.896956   \n",
       "16846           A03   020-000-032-221 2009-05-27 14:20:16.980  4.496296   \n",
       "\n",
       "        y_coord   z_coord activity  \n",
       "16842  2.130104  1.230467  walking  \n",
       "16843  1.988581  0.692231  walking  \n",
       "16844  1.831974  0.171011  walking  \n",
       "16845  1.778244  1.315302  walking  \n",
       "16846  2.179232  1.192686  walking  "
      ]
     },
     "execution_count": 20,
     "metadata": {},
     "output_type": "execute_result"
    }
   ],
   "source": [
    "df[df['sequence_name']=='A03'].tail()"
   ]
  },
  {
   "cell_type": "code",
   "execution_count": 21,
   "metadata": {
    "colab": {
     "base_uri": "https://localhost:8080/",
     "height": 204
    },
    "colab_type": "code",
    "id": "_eGgRIEeQhAA",
    "outputId": "059ef677-8934-44e5-9ef3-c435584fba56"
   },
   "outputs": [
    {
     "data": {
      "text/html": [
       "<div>\n",
       "<style scoped>\n",
       "    .dataframe tbody tr th:only-of-type {\n",
       "        vertical-align: middle;\n",
       "    }\n",
       "\n",
       "    .dataframe tbody tr th {\n",
       "        vertical-align: top;\n",
       "    }\n",
       "\n",
       "    .dataframe thead th {\n",
       "        text-align: right;\n",
       "    }\n",
       "</style>\n",
       "<table border=\"1\" class=\"dataframe\">\n",
       "  <thead>\n",
       "    <tr style=\"text-align: right;\">\n",
       "      <th></th>\n",
       "      <th>sequence_name</th>\n",
       "      <th>tag_identificator</th>\n",
       "      <th>date</th>\n",
       "      <th>x_coord</th>\n",
       "      <th>y_coord</th>\n",
       "      <th>z_coord</th>\n",
       "      <th>activity</th>\n",
       "    </tr>\n",
       "  </thead>\n",
       "  <tbody>\n",
       "    <tr>\n",
       "      <th>16847</th>\n",
       "      <td>A04</td>\n",
       "      <td>020-000-032-221</td>\n",
       "      <td>2009-05-27 14:22:38.450</td>\n",
       "      <td>4.434326</td>\n",
       "      <td>2.022355</td>\n",
       "      <td>0.972890</td>\n",
       "      <td>walking</td>\n",
       "    </tr>\n",
       "    <tr>\n",
       "      <th>16848</th>\n",
       "      <td>A04</td>\n",
       "      <td>010-000-030-096</td>\n",
       "      <td>2009-05-27 14:22:38.477</td>\n",
       "      <td>4.256600</td>\n",
       "      <td>2.213648</td>\n",
       "      <td>-0.063210</td>\n",
       "      <td>walking</td>\n",
       "    </tr>\n",
       "    <tr>\n",
       "      <th>16849</th>\n",
       "      <td>A04</td>\n",
       "      <td>010-000-024-033</td>\n",
       "      <td>2009-05-27 14:22:38.503</td>\n",
       "      <td>4.552142</td>\n",
       "      <td>2.246632</td>\n",
       "      <td>0.318742</td>\n",
       "      <td>walking</td>\n",
       "    </tr>\n",
       "    <tr>\n",
       "      <th>16850</th>\n",
       "      <td>A04</td>\n",
       "      <td>020-000-033-111</td>\n",
       "      <td>2009-05-27 14:22:38.530</td>\n",
       "      <td>4.322803</td>\n",
       "      <td>2.031950</td>\n",
       "      <td>1.363114</td>\n",
       "      <td>walking</td>\n",
       "    </tr>\n",
       "    <tr>\n",
       "      <th>16851</th>\n",
       "      <td>A04</td>\n",
       "      <td>020-000-032-221</td>\n",
       "      <td>2009-05-27 14:22:38.557</td>\n",
       "      <td>4.320700</td>\n",
       "      <td>1.988511</td>\n",
       "      <td>0.947000</td>\n",
       "      <td>walking</td>\n",
       "    </tr>\n",
       "  </tbody>\n",
       "</table>\n",
       "</div>"
      ],
      "text/plain": [
       "      sequence_name tag_identificator                    date   x_coord  \\\n",
       "16847           A04   020-000-032-221 2009-05-27 14:22:38.450  4.434326   \n",
       "16848           A04   010-000-030-096 2009-05-27 14:22:38.477  4.256600   \n",
       "16849           A04   010-000-024-033 2009-05-27 14:22:38.503  4.552142   \n",
       "16850           A04   020-000-033-111 2009-05-27 14:22:38.530  4.322803   \n",
       "16851           A04   020-000-032-221 2009-05-27 14:22:38.557  4.320700   \n",
       "\n",
       "        y_coord   z_coord activity  \n",
       "16847  2.022355  0.972890  walking  \n",
       "16848  2.213648 -0.063210  walking  \n",
       "16849  2.246632  0.318742  walking  \n",
       "16850  2.031950  1.363114  walking  \n",
       "16851  1.988511  0.947000  walking  "
      ]
     },
     "execution_count": 21,
     "metadata": {},
     "output_type": "execute_result"
    }
   ],
   "source": [
    "df[df['sequence_name']=='A04'].head()"
   ]
  },
  {
   "cell_type": "code",
   "execution_count": 22,
   "metadata": {
    "colab": {
     "base_uri": "https://localhost:8080/",
     "height": 204
    },
    "colab_type": "code",
    "id": "WqEZ1Gj4QhAH",
    "outputId": "47255b6e-971d-433f-c54f-1ec4b0671dfc"
   },
   "outputs": [
    {
     "data": {
      "text/html": [
       "<div>\n",
       "<style scoped>\n",
       "    .dataframe tbody tr th:only-of-type {\n",
       "        vertical-align: middle;\n",
       "    }\n",
       "\n",
       "    .dataframe tbody tr th {\n",
       "        vertical-align: top;\n",
       "    }\n",
       "\n",
       "    .dataframe thead th {\n",
       "        text-align: right;\n",
       "    }\n",
       "</style>\n",
       "<table border=\"1\" class=\"dataframe\">\n",
       "  <thead>\n",
       "    <tr style=\"text-align: right;\">\n",
       "      <th></th>\n",
       "      <th>sequence_name</th>\n",
       "      <th>tag_identificator</th>\n",
       "      <th>date</th>\n",
       "      <th>x_coord</th>\n",
       "      <th>y_coord</th>\n",
       "      <th>z_coord</th>\n",
       "      <th>activity</th>\n",
       "    </tr>\n",
       "  </thead>\n",
       "  <tbody>\n",
       "    <tr>\n",
       "      <th>22249</th>\n",
       "      <td>A05</td>\n",
       "      <td>010-000-030-096</td>\n",
       "      <td>2009-05-27 14:29:50.840</td>\n",
       "      <td>4.341525</td>\n",
       "      <td>1.841244</td>\n",
       "      <td>0.087433</td>\n",
       "      <td>walking</td>\n",
       "    </tr>\n",
       "    <tr>\n",
       "      <th>22250</th>\n",
       "      <td>A05</td>\n",
       "      <td>010-000-024-033</td>\n",
       "      <td>2009-05-27 14:29:50.867</td>\n",
       "      <td>4.225326</td>\n",
       "      <td>1.799476</td>\n",
       "      <td>0.403672</td>\n",
       "      <td>walking</td>\n",
       "    </tr>\n",
       "    <tr>\n",
       "      <th>22251</th>\n",
       "      <td>A05</td>\n",
       "      <td>020-000-032-221</td>\n",
       "      <td>2009-05-27 14:29:50.893</td>\n",
       "      <td>4.342581</td>\n",
       "      <td>1.755656</td>\n",
       "      <td>0.844413</td>\n",
       "      <td>walking</td>\n",
       "    </tr>\n",
       "    <tr>\n",
       "      <th>22252</th>\n",
       "      <td>A05</td>\n",
       "      <td>020-000-033-111</td>\n",
       "      <td>2009-05-27 14:29:50.920</td>\n",
       "      <td>4.191577</td>\n",
       "      <td>2.113575</td>\n",
       "      <td>1.378898</td>\n",
       "      <td>walking</td>\n",
       "    </tr>\n",
       "    <tr>\n",
       "      <th>22253</th>\n",
       "      <td>A05</td>\n",
       "      <td>010-000-024-033</td>\n",
       "      <td>2009-05-27 14:29:50.977</td>\n",
       "      <td>4.267397</td>\n",
       "      <td>1.717720</td>\n",
       "      <td>0.503619</td>\n",
       "      <td>walking</td>\n",
       "    </tr>\n",
       "  </tbody>\n",
       "</table>\n",
       "</div>"
      ],
      "text/plain": [
       "      sequence_name tag_identificator                    date   x_coord  \\\n",
       "22249           A05   010-000-030-096 2009-05-27 14:29:50.840  4.341525   \n",
       "22250           A05   010-000-024-033 2009-05-27 14:29:50.867  4.225326   \n",
       "22251           A05   020-000-032-221 2009-05-27 14:29:50.893  4.342581   \n",
       "22252           A05   020-000-033-111 2009-05-27 14:29:50.920  4.191577   \n",
       "22253           A05   010-000-024-033 2009-05-27 14:29:50.977  4.267397   \n",
       "\n",
       "        y_coord   z_coord activity  \n",
       "22249  1.841244  0.087433  walking  \n",
       "22250  1.799476  0.403672  walking  \n",
       "22251  1.755656  0.844413  walking  \n",
       "22252  2.113575  1.378898  walking  \n",
       "22253  1.717720  0.503619  walking  "
      ]
     },
     "execution_count": 22,
     "metadata": {},
     "output_type": "execute_result"
    }
   ],
   "source": [
    "df[df['sequence_name']=='A05'].head()"
   ]
  },
  {
   "cell_type": "code",
   "execution_count": 23,
   "metadata": {
    "colab": {
     "base_uri": "https://localhost:8080/",
     "height": 204
    },
    "colab_type": "code",
    "id": "244vdANeQhAR",
    "outputId": "6cb19926-cd7e-4265-98f8-3a1ffbc8dae0"
   },
   "outputs": [
    {
     "data": {
      "text/html": [
       "<div>\n",
       "<style scoped>\n",
       "    .dataframe tbody tr th:only-of-type {\n",
       "        vertical-align: middle;\n",
       "    }\n",
       "\n",
       "    .dataframe tbody tr th {\n",
       "        vertical-align: top;\n",
       "    }\n",
       "\n",
       "    .dataframe thead th {\n",
       "        text-align: right;\n",
       "    }\n",
       "</style>\n",
       "<table border=\"1\" class=\"dataframe\">\n",
       "  <thead>\n",
       "    <tr style=\"text-align: right;\">\n",
       "      <th></th>\n",
       "      <th>sequence_name</th>\n",
       "      <th>tag_identificator</th>\n",
       "      <th>date</th>\n",
       "      <th>x_coord</th>\n",
       "      <th>y_coord</th>\n",
       "      <th>z_coord</th>\n",
       "      <th>activity</th>\n",
       "    </tr>\n",
       "  </thead>\n",
       "  <tbody>\n",
       "    <tr>\n",
       "      <th>27473</th>\n",
       "      <td>B01</td>\n",
       "      <td>020-000-032-221</td>\n",
       "      <td>2009-05-27 13:19:37.523</td>\n",
       "      <td>1.523960</td>\n",
       "      <td>1.385043</td>\n",
       "      <td>0.971984</td>\n",
       "      <td>walking</td>\n",
       "    </tr>\n",
       "    <tr>\n",
       "      <th>27474</th>\n",
       "      <td>B01</td>\n",
       "      <td>010-000-024-033</td>\n",
       "      <td>2009-05-27 13:19:37.550</td>\n",
       "      <td>1.489093</td>\n",
       "      <td>1.844877</td>\n",
       "      <td>0.136721</td>\n",
       "      <td>walking</td>\n",
       "    </tr>\n",
       "    <tr>\n",
       "      <th>27475</th>\n",
       "      <td>B01</td>\n",
       "      <td>010-000-030-096</td>\n",
       "      <td>2009-05-27 13:19:37.580</td>\n",
       "      <td>1.635931</td>\n",
       "      <td>1.367679</td>\n",
       "      <td>-0.057035</td>\n",
       "      <td>walking</td>\n",
       "    </tr>\n",
       "    <tr>\n",
       "      <th>27476</th>\n",
       "      <td>B01</td>\n",
       "      <td>020-000-033-111</td>\n",
       "      <td>2009-05-27 13:19:37.607</td>\n",
       "      <td>1.365607</td>\n",
       "      <td>1.314459</td>\n",
       "      <td>1.313827</td>\n",
       "      <td>walking</td>\n",
       "    </tr>\n",
       "    <tr>\n",
       "      <th>27477</th>\n",
       "      <td>B01</td>\n",
       "      <td>020-000-032-221</td>\n",
       "      <td>2009-05-27 13:19:37.633</td>\n",
       "      <td>1.507878</td>\n",
       "      <td>1.393775</td>\n",
       "      <td>0.902426</td>\n",
       "      <td>walking</td>\n",
       "    </tr>\n",
       "  </tbody>\n",
       "</table>\n",
       "</div>"
      ],
      "text/plain": [
       "      sequence_name tag_identificator                    date   x_coord  \\\n",
       "27473           B01   020-000-032-221 2009-05-27 13:19:37.523  1.523960   \n",
       "27474           B01   010-000-024-033 2009-05-27 13:19:37.550  1.489093   \n",
       "27475           B01   010-000-030-096 2009-05-27 13:19:37.580  1.635931   \n",
       "27476           B01   020-000-033-111 2009-05-27 13:19:37.607  1.365607   \n",
       "27477           B01   020-000-032-221 2009-05-27 13:19:37.633  1.507878   \n",
       "\n",
       "        y_coord   z_coord activity  \n",
       "27473  1.385043  0.971984  walking  \n",
       "27474  1.844877  0.136721  walking  \n",
       "27475  1.367679 -0.057035  walking  \n",
       "27476  1.314459  1.313827  walking  \n",
       "27477  1.393775  0.902426  walking  "
      ]
     },
     "execution_count": 23,
     "metadata": {},
     "output_type": "execute_result"
    }
   ],
   "source": [
    "df[df['sequence_name']=='B01'].head()"
   ]
  },
  {
   "cell_type": "code",
   "execution_count": 24,
   "metadata": {
    "colab": {
     "base_uri": "https://localhost:8080/",
     "height": 204
    },
    "colab_type": "code",
    "id": "t4q0NXp4QhAX",
    "outputId": "5719f6b2-2f59-46be-a424-44a4e197ee5a",
    "scrolled": true
   },
   "outputs": [
    {
     "data": {
      "text/html": [
       "<div>\n",
       "<style scoped>\n",
       "    .dataframe tbody tr th:only-of-type {\n",
       "        vertical-align: middle;\n",
       "    }\n",
       "\n",
       "    .dataframe tbody tr th {\n",
       "        vertical-align: top;\n",
       "    }\n",
       "\n",
       "    .dataframe thead th {\n",
       "        text-align: right;\n",
       "    }\n",
       "</style>\n",
       "<table border=\"1\" class=\"dataframe\">\n",
       "  <thead>\n",
       "    <tr style=\"text-align: right;\">\n",
       "      <th></th>\n",
       "      <th>sequence_name</th>\n",
       "      <th>tag_identificator</th>\n",
       "      <th>date</th>\n",
       "      <th>x_coord</th>\n",
       "      <th>y_coord</th>\n",
       "      <th>z_coord</th>\n",
       "      <th>activity</th>\n",
       "    </tr>\n",
       "  </thead>\n",
       "  <tbody>\n",
       "    <tr>\n",
       "      <th>34120</th>\n",
       "      <td>B02</td>\n",
       "      <td>010-000-030-096</td>\n",
       "      <td>2009-05-27 13:25:14.583</td>\n",
       "      <td>2.997231</td>\n",
       "      <td>1.921844</td>\n",
       "      <td>-0.092406</td>\n",
       "      <td>walking</td>\n",
       "    </tr>\n",
       "    <tr>\n",
       "      <th>34121</th>\n",
       "      <td>B02</td>\n",
       "      <td>020-000-033-111</td>\n",
       "      <td>2009-05-27 13:25:14.610</td>\n",
       "      <td>3.210686</td>\n",
       "      <td>2.379043</td>\n",
       "      <td>1.391759</td>\n",
       "      <td>walking</td>\n",
       "    </tr>\n",
       "    <tr>\n",
       "      <th>34122</th>\n",
       "      <td>B02</td>\n",
       "      <td>020-000-032-221</td>\n",
       "      <td>2009-05-27 13:25:14.637</td>\n",
       "      <td>3.432703</td>\n",
       "      <td>2.389436</td>\n",
       "      <td>0.947170</td>\n",
       "      <td>walking</td>\n",
       "    </tr>\n",
       "    <tr>\n",
       "      <th>34123</th>\n",
       "      <td>B02</td>\n",
       "      <td>010-000-024-033</td>\n",
       "      <td>2009-05-27 13:25:14.663</td>\n",
       "      <td>3.543335</td>\n",
       "      <td>1.528004</td>\n",
       "      <td>0.213834</td>\n",
       "      <td>walking</td>\n",
       "    </tr>\n",
       "    <tr>\n",
       "      <th>34124</th>\n",
       "      <td>B02</td>\n",
       "      <td>020-000-033-111</td>\n",
       "      <td>2009-05-27 13:25:14.720</td>\n",
       "      <td>3.160179</td>\n",
       "      <td>2.373081</td>\n",
       "      <td>1.357668</td>\n",
       "      <td>walking</td>\n",
       "    </tr>\n",
       "  </tbody>\n",
       "</table>\n",
       "</div>"
      ],
      "text/plain": [
       "      sequence_name tag_identificator                    date   x_coord  \\\n",
       "34120           B02   010-000-030-096 2009-05-27 13:25:14.583  2.997231   \n",
       "34121           B02   020-000-033-111 2009-05-27 13:25:14.610  3.210686   \n",
       "34122           B02   020-000-032-221 2009-05-27 13:25:14.637  3.432703   \n",
       "34123           B02   010-000-024-033 2009-05-27 13:25:14.663  3.543335   \n",
       "34124           B02   020-000-033-111 2009-05-27 13:25:14.720  3.160179   \n",
       "\n",
       "        y_coord   z_coord activity  \n",
       "34120  1.921844 -0.092406  walking  \n",
       "34121  2.379043  1.391759  walking  \n",
       "34122  2.389436  0.947170  walking  \n",
       "34123  1.528004  0.213834  walking  \n",
       "34124  2.373081  1.357668  walking  "
      ]
     },
     "execution_count": 24,
     "metadata": {},
     "output_type": "execute_result"
    }
   ],
   "source": [
    "df[df['sequence_name']=='B02'].head()"
   ]
  },
  {
   "cell_type": "code",
   "execution_count": 25,
   "metadata": {
    "colab": {
     "base_uri": "https://localhost:8080/",
     "height": 204
    },
    "colab_type": "code",
    "id": "vPMmuGYEQhAi",
    "outputId": "e6471440-1c0a-42e7-c3f7-fa46d3fb29e8"
   },
   "outputs": [
    {
     "data": {
      "text/html": [
       "<div>\n",
       "<style scoped>\n",
       "    .dataframe tbody tr th:only-of-type {\n",
       "        vertical-align: middle;\n",
       "    }\n",
       "\n",
       "    .dataframe tbody tr th {\n",
       "        vertical-align: top;\n",
       "    }\n",
       "\n",
       "    .dataframe thead th {\n",
       "        text-align: right;\n",
       "    }\n",
       "</style>\n",
       "<table border=\"1\" class=\"dataframe\">\n",
       "  <thead>\n",
       "    <tr style=\"text-align: right;\">\n",
       "      <th></th>\n",
       "      <th>sequence_name</th>\n",
       "      <th>tag_identificator</th>\n",
       "      <th>date</th>\n",
       "      <th>x_coord</th>\n",
       "      <th>y_coord</th>\n",
       "      <th>z_coord</th>\n",
       "      <th>activity</th>\n",
       "    </tr>\n",
       "  </thead>\n",
       "  <tbody>\n",
       "    <tr>\n",
       "      <th>164855</th>\n",
       "      <td>E05</td>\n",
       "      <td>010-000-030-096</td>\n",
       "      <td>2009-05-27 11:50:41.957</td>\n",
       "      <td>3.209474</td>\n",
       "      <td>2.044571</td>\n",
       "      <td>0.062902</td>\n",
       "      <td>walking</td>\n",
       "    </tr>\n",
       "    <tr>\n",
       "      <th>164856</th>\n",
       "      <td>E05</td>\n",
       "      <td>010-000-024-033</td>\n",
       "      <td>2009-05-27 11:50:41.983</td>\n",
       "      <td>3.386878</td>\n",
       "      <td>2.004729</td>\n",
       "      <td>0.395161</td>\n",
       "      <td>walking</td>\n",
       "    </tr>\n",
       "    <tr>\n",
       "      <th>164857</th>\n",
       "      <td>E05</td>\n",
       "      <td>020-000-033-111</td>\n",
       "      <td>2009-05-27 11:50:42.010</td>\n",
       "      <td>3.188895</td>\n",
       "      <td>1.915717</td>\n",
       "      <td>1.353087</td>\n",
       "      <td>walking</td>\n",
       "    </tr>\n",
       "    <tr>\n",
       "      <th>164858</th>\n",
       "      <td>E05</td>\n",
       "      <td>010-000-030-096</td>\n",
       "      <td>2009-05-27 11:50:42.063</td>\n",
       "      <td>3.150169</td>\n",
       "      <td>1.931164</td>\n",
       "      <td>0.055037</td>\n",
       "      <td>walking</td>\n",
       "    </tr>\n",
       "    <tr>\n",
       "      <th>164859</th>\n",
       "      <td>E05</td>\n",
       "      <td>010-000-024-033</td>\n",
       "      <td>2009-05-27 11:50:42.090</td>\n",
       "      <td>3.209994</td>\n",
       "      <td>1.939577</td>\n",
       "      <td>0.364777</td>\n",
       "      <td>walking</td>\n",
       "    </tr>\n",
       "  </tbody>\n",
       "</table>\n",
       "</div>"
      ],
      "text/plain": [
       "       sequence_name tag_identificator                    date   x_coord  \\\n",
       "164855           E05   010-000-030-096 2009-05-27 11:50:41.957  3.209474   \n",
       "164856           E05   010-000-024-033 2009-05-27 11:50:41.983  3.386878   \n",
       "164857           E05   020-000-033-111 2009-05-27 11:50:42.010  3.188895   \n",
       "164858           E05   010-000-030-096 2009-05-27 11:50:42.063  3.150169   \n",
       "164859           E05   010-000-024-033 2009-05-27 11:50:42.090  3.209994   \n",
       "\n",
       "         y_coord   z_coord activity  \n",
       "164855  2.044571  0.062902  walking  \n",
       "164856  2.004729  0.395161  walking  \n",
       "164857  1.915717  1.353087  walking  \n",
       "164858  1.931164  0.055037  walking  \n",
       "164859  1.939577  0.364777  walking  "
      ]
     },
     "execution_count": 25,
     "metadata": {},
     "output_type": "execute_result"
    }
   ],
   "source": [
    "df.tail()"
   ]
  },
  {
   "cell_type": "code",
   "execution_count": 26,
   "metadata": {
    "colab": {
     "base_uri": "https://localhost:8080/",
     "height": 85
    },
    "colab_type": "code",
    "id": "aX9vplErQhAq",
    "outputId": "80f5e785-bc27-443e-af49-44e04122382b"
   },
   "outputs": [
    {
     "data": {
      "text/plain": [
       "array(['walking', 'sitting down', 'sitting', 'standing up from sitting',\n",
       "       'falling', 'lying', 'standing up from lying', 'lying down',\n",
       "       'sitting on the ground', 'standing up from sitting on the ground',\n",
       "       'on all fours'], dtype=object)"
      ]
     },
     "execution_count": 26,
     "metadata": {},
     "output_type": "execute_result"
    }
   ],
   "source": [
    "df[df['sequence_name']=='A01'].activity.unique()"
   ]
  },
  {
   "cell_type": "markdown",
   "metadata": {
    "colab_type": "text",
    "id": "D2WfRj9UQhA4"
   },
   "source": [
    "### It is important to understand here, that the groups A01, A02, A03 are recorded in different times and hence any data manipulation like calculating velocity etc. can only be done within one sequence only"
   ]
  },
  {
   "cell_type": "code",
   "execution_count": 27,
   "metadata": {
    "colab": {},
    "colab_type": "code",
    "id": "LkbUs-MJQhA5"
   },
   "outputs": [],
   "source": [
    "# Let's change the tag_identificator column to represent the position of tag and change the column name to tag_position\n",
    "df.rename(columns={'tag_identificator':'tag_position'}, inplace=True)"
   ]
  },
  {
   "cell_type": "code",
   "execution_count": 28,
   "metadata": {
    "colab": {},
    "colab_type": "code",
    "id": "4EdCAx2lQhBF"
   },
   "outputs": [],
   "source": [
    "df['tag_position'] = df['tag_position'].map({'010-000-024-033':'Ankle_Left', '010-000-030-096':'Ankle_Right', '020-000-033-111':'Chest', '020-000-032-221':'Belt'})"
   ]
  },
  {
   "cell_type": "markdown",
   "metadata": {
    "colab_type": "text",
    "id": "qX5oQ3y6QhBN"
   },
   "source": [
    "## Data Definition\n",
    "### Column names and data types can be seen below"
   ]
  },
  {
   "cell_type": "code",
   "execution_count": 29,
   "metadata": {
    "colab": {
     "base_uri": "https://localhost:8080/",
     "height": 255
    },
    "colab_type": "code",
    "id": "f_kCqn8fQhBP",
    "outputId": "2eb11dca-47d3-4f17-f9dd-d9d162b7d643",
    "scrolled": true
   },
   "outputs": [
    {
     "name": "stdout",
     "output_type": "stream",
     "text": [
      "<class 'pandas.core.frame.DataFrame'>\n",
      "RangeIndex: 164860 entries, 0 to 164859\n",
      "Data columns (total 7 columns):\n",
      " #   Column         Non-Null Count   Dtype         \n",
      "---  ------         --------------   -----         \n",
      " 0   sequence_name  164860 non-null  object        \n",
      " 1   tag_position   164860 non-null  object        \n",
      " 2   date           164860 non-null  datetime64[ns]\n",
      " 3   x_coord        164860 non-null  float64       \n",
      " 4   y_coord        164860 non-null  float64       \n",
      " 5   z_coord        164860 non-null  float64       \n",
      " 6   activity       164860 non-null  object        \n",
      "dtypes: datetime64[ns](1), float64(3), object(3)\n",
      "memory usage: 8.8+ MB\n"
     ]
    }
   ],
   "source": [
    "df.info()"
   ]
  },
  {
   "cell_type": "markdown",
   "metadata": {
    "colab_type": "text",
    "id": "72GCOwRFQhBX"
   },
   "source": [
    "### Count of Unique values"
   ]
  },
  {
   "cell_type": "code",
   "execution_count": 30,
   "metadata": {
    "colab": {
     "base_uri": "https://localhost:8080/",
     "height": 153
    },
    "colab_type": "code",
    "id": "RcXqFEj4QhBZ",
    "outputId": "03395786-a1b2-4318-cd6c-dde68c5df42a"
   },
   "outputs": [
    {
     "data": {
      "text/plain": [
       "sequence_name    25\n",
       "tag_position      4\n",
       "activity         11\n",
       "dtype: int64"
      ]
     },
     "execution_count": 30,
     "metadata": {},
     "output_type": "execute_result"
    }
   ],
   "source": [
    "df[['sequence_name', 'tag_position', 'activity']].nunique()"
   ]
  },
  {
   "cell_type": "code",
   "execution_count": 31,
   "metadata": {
    "colab": {
     "base_uri": "https://localhost:8080/",
     "height": 221
    },
    "colab_type": "code",
    "id": "4WUo02nljnpG",
    "outputId": "239f89aa-7eca-407f-98f0-b8e710c895e0"
   },
   "outputs": [
    {
     "data": {
      "text/plain": [
       "lying                                     54480\n",
       "walking                                   32710\n",
       "sitting                                   27244\n",
       "standing up from lying                    18361\n",
       "sitting on the ground                     11779\n",
       "lying down                                 6168\n",
       "on all fours                               5210\n",
       "falling                                    2973\n",
       "standing up from sitting on the ground     2848\n",
       "sitting down                               1706\n",
       "standing up from sitting                   1381\n",
       "Name: activity, dtype: int64"
      ]
     },
     "execution_count": 31,
     "metadata": {},
     "output_type": "execute_result"
    }
   ],
   "source": [
    "df.activity.value_counts()"
   ]
  },
  {
   "cell_type": "code",
   "execution_count": 32,
   "metadata": {
    "colab": {
     "base_uri": "https://localhost:8080/",
     "height": 102
    },
    "colab_type": "code",
    "id": "30kPO0z4xDDU",
    "outputId": "c14e8dd6-8cc9-4ab2-8fa1-371a3a0843c6"
   },
   "outputs": [
    {
     "data": {
      "text/plain": [
       "Ankle_Left     43526\n",
       "Belt           42973\n",
       "Ankle_Right    42560\n",
       "Chest          35801\n",
       "Name: tag_position, dtype: int64"
      ]
     },
     "execution_count": 32,
     "metadata": {},
     "output_type": "execute_result"
    }
   ],
   "source": [
    "df.tag_position.value_counts()"
   ]
  },
  {
   "cell_type": "markdown",
   "metadata": {
    "colab_type": "text",
    "id": "oobXaeTJqgf9"
   },
   "source": [
    "## Summary of numerical columns\n"
   ]
  },
  {
   "cell_type": "code",
   "execution_count": 33,
   "metadata": {
    "colab": {
     "base_uri": "https://localhost:8080/",
     "height": 297
    },
    "colab_type": "code",
    "id": "yDId5xMYq0qM",
    "outputId": "e3830a83-5555-4e94-d09c-7684da2f54ee"
   },
   "outputs": [
    {
     "data": {
      "text/html": [
       "<div>\n",
       "<style scoped>\n",
       "    .dataframe tbody tr th:only-of-type {\n",
       "        vertical-align: middle;\n",
       "    }\n",
       "\n",
       "    .dataframe tbody tr th {\n",
       "        vertical-align: top;\n",
       "    }\n",
       "\n",
       "    .dataframe thead th {\n",
       "        text-align: right;\n",
       "    }\n",
       "</style>\n",
       "<table border=\"1\" class=\"dataframe\">\n",
       "  <thead>\n",
       "    <tr style=\"text-align: right;\">\n",
       "      <th></th>\n",
       "      <th>x_coord</th>\n",
       "      <th>y_coord</th>\n",
       "      <th>z_coord</th>\n",
       "    </tr>\n",
       "  </thead>\n",
       "  <tbody>\n",
       "    <tr>\n",
       "      <th>count</th>\n",
       "      <td>164860.000000</td>\n",
       "      <td>164860.000000</td>\n",
       "      <td>164860.000000</td>\n",
       "    </tr>\n",
       "    <tr>\n",
       "      <th>mean</th>\n",
       "      <td>2.811348</td>\n",
       "      <td>1.696877</td>\n",
       "      <td>0.418210</td>\n",
       "    </tr>\n",
       "    <tr>\n",
       "      <th>std</th>\n",
       "      <td>0.916226</td>\n",
       "      <td>0.473769</td>\n",
       "      <td>0.379125</td>\n",
       "    </tr>\n",
       "    <tr>\n",
       "      <th>min</th>\n",
       "      <td>-0.278698</td>\n",
       "      <td>-0.494428</td>\n",
       "      <td>-2.543609</td>\n",
       "    </tr>\n",
       "    <tr>\n",
       "      <th>25%</th>\n",
       "      <td>2.155791</td>\n",
       "      <td>1.350501</td>\n",
       "      <td>0.171623</td>\n",
       "    </tr>\n",
       "    <tr>\n",
       "      <th>50%</th>\n",
       "      <td>2.880423</td>\n",
       "      <td>1.634170</td>\n",
       "      <td>0.366285</td>\n",
       "    </tr>\n",
       "    <tr>\n",
       "      <th>75%</th>\n",
       "      <td>3.414097</td>\n",
       "      <td>2.039314</td>\n",
       "      <td>0.613117</td>\n",
       "    </tr>\n",
       "    <tr>\n",
       "      <th>max</th>\n",
       "      <td>5.758173</td>\n",
       "      <td>3.978097</td>\n",
       "      <td>2.606105</td>\n",
       "    </tr>\n",
       "  </tbody>\n",
       "</table>\n",
       "</div>"
      ],
      "text/plain": [
       "             x_coord        y_coord        z_coord\n",
       "count  164860.000000  164860.000000  164860.000000\n",
       "mean        2.811348       1.696877       0.418210\n",
       "std         0.916226       0.473769       0.379125\n",
       "min        -0.278698      -0.494428      -2.543609\n",
       "25%         2.155791       1.350501       0.171623\n",
       "50%         2.880423       1.634170       0.366285\n",
       "75%         3.414097       2.039314       0.613117\n",
       "max         5.758173       3.978097       2.606105"
      ]
     },
     "execution_count": 33,
     "metadata": {},
     "output_type": "execute_result"
    }
   ],
   "source": [
    "df.describe()"
   ]
  },
  {
   "cell_type": "markdown",
   "metadata": {
    "colab_type": "text",
    "id": "R4GXRMvCrS0s"
   },
   "source": [
    "### There are no missing values in dataset."
   ]
  },
  {
   "cell_type": "code",
   "execution_count": 34,
   "metadata": {
    "colab": {
     "base_uri": "https://localhost:8080/",
     "height": 49
    },
    "colab_type": "code",
    "id": "T6siAys4rQ_O",
    "outputId": "08a3652c-2493-498d-bc8a-302833ef7512"
   },
   "outputs": [
    {
     "data": {
      "text/html": [
       "<div>\n",
       "<style scoped>\n",
       "    .dataframe tbody tr th:only-of-type {\n",
       "        vertical-align: middle;\n",
       "    }\n",
       "\n",
       "    .dataframe tbody tr th {\n",
       "        vertical-align: top;\n",
       "    }\n",
       "\n",
       "    .dataframe thead th {\n",
       "        text-align: right;\n",
       "    }\n",
       "</style>\n",
       "<table border=\"1\" class=\"dataframe\">\n",
       "  <thead>\n",
       "    <tr style=\"text-align: right;\">\n",
       "      <th></th>\n",
       "      <th>sequence_name</th>\n",
       "      <th>tag_position</th>\n",
       "      <th>date</th>\n",
       "      <th>x_coord</th>\n",
       "      <th>y_coord</th>\n",
       "      <th>z_coord</th>\n",
       "      <th>activity</th>\n",
       "    </tr>\n",
       "  </thead>\n",
       "  <tbody>\n",
       "  </tbody>\n",
       "</table>\n",
       "</div>"
      ],
      "text/plain": [
       "Empty DataFrame\n",
       "Columns: [sequence_name, tag_position, date, x_coord, y_coord, z_coord, activity]\n",
       "Index: []"
      ]
     },
     "execution_count": 34,
     "metadata": {},
     "output_type": "execute_result"
    }
   ],
   "source": [
    "# Check for duplicate rows\n",
    "df[df.duplicated()]"
   ]
  },
  {
   "cell_type": "markdown",
   "metadata": {
    "colab_type": "text",
    "id": "of1_crUBr2iL"
   },
   "source": [
    "So there are no duplicated values"
   ]
  },
  {
   "cell_type": "markdown",
   "metadata": {
    "colab_type": "text",
    "id": "ieNMlj5uQhBi"
   },
   "source": [
    "## Data Organization\n",
    "Github will be organized with different folders considering different stages of the project. The following folders will be created as the project progresses:\n",
    "1. Project Proposal\n",
    "2. Data Wrangling\n",
    "3. EDA\n",
    "4. PreProcessing\n",
    "5. Modelling\n",
    "6. data\n",
    "7. models\n",
    "8. figures\n",
    "9. Project Documentation"
   ]
  },
  {
   "cell_type": "markdown",
   "metadata": {},
   "source": [
    "## Exporting the Data into new csv file"
   ]
  },
  {
   "cell_type": "code",
   "execution_count": 35,
   "metadata": {},
   "outputs": [],
   "source": [
    "df.to_csv('D:\\\\Springboard\\\\Technical Project\\\\7_Capstone Two\\\\data\\wrangled_data.csv')"
   ]
  }
 ],
 "metadata": {
  "accelerator": "GPU",
  "colab": {
   "name": "Capstone_Two.ipynb",
   "provenance": []
  },
  "kernelspec": {
   "display_name": "Python 3",
   "language": "python",
   "name": "python3"
  },
  "language_info": {
   "codemirror_mode": {
    "name": "ipython",
    "version": 3
   },
   "file_extension": ".py",
   "mimetype": "text/x-python",
   "name": "python",
   "nbconvert_exporter": "python",
   "pygments_lexer": "ipython3",
   "version": "3.7.7"
  }
 },
 "nbformat": 4,
 "nbformat_minor": 1
}
