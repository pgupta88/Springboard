{
 "cells": [
  {
   "cell_type": "code",
   "execution_count": 1,
   "metadata": {},
   "outputs": [],
   "source": [
    "# Import necessary module for SQL\n",
    "from sqlalchemy import create_engine"
   ]
  },
  {
   "cell_type": "code",
   "execution_count": 2,
   "metadata": {},
   "outputs": [],
   "source": [
    "# Create a Engine\n",
    "engine = create_engine('sqlite:///sqlite_db_pythonsqlite.db')"
   ]
  },
  {
   "cell_type": "code",
   "execution_count": 3,
   "metadata": {},
   "outputs": [],
   "source": [
    "# Connect the Engine\n",
    "con = engine.connect()"
   ]
  },
  {
   "cell_type": "code",
   "execution_count": 4,
   "metadata": {},
   "outputs": [
    {
     "data": {
      "text/plain": [
       "['Bookings', 'Facilities', 'Members']"
      ]
     },
     "execution_count": 4,
     "metadata": {},
     "output_type": "execute_result"
    }
   ],
   "source": [
    "# Execute the commands to see the tables\n",
    "engine.table_names()"
   ]
  },
  {
   "cell_type": "code",
   "execution_count": 5,
   "metadata": {},
   "outputs": [],
   "source": [
    "# Checking the structure of each table\n",
    "import pandas as pd\n",
    "df_bookings = pd.DataFrame(con.execute('SELECT * FROM Bookings').fetchall())\n",
    "df_bookings.columns = con.execute('SELECT * FROM Bookings').keys()"
   ]
  },
  {
   "cell_type": "code",
   "execution_count": 6,
   "metadata": {},
   "outputs": [
    {
     "data": {
      "text/html": [
       "<div>\n",
       "<style scoped>\n",
       "    .dataframe tbody tr th:only-of-type {\n",
       "        vertical-align: middle;\n",
       "    }\n",
       "\n",
       "    .dataframe tbody tr th {\n",
       "        vertical-align: top;\n",
       "    }\n",
       "\n",
       "    .dataframe thead th {\n",
       "        text-align: right;\n",
       "    }\n",
       "</style>\n",
       "<table border=\"1\" class=\"dataframe\">\n",
       "  <thead>\n",
       "    <tr style=\"text-align: right;\">\n",
       "      <th></th>\n",
       "      <th>bookid</th>\n",
       "      <th>facid</th>\n",
       "      <th>memid</th>\n",
       "      <th>starttime</th>\n",
       "      <th>slots</th>\n",
       "    </tr>\n",
       "  </thead>\n",
       "  <tbody>\n",
       "    <tr>\n",
       "      <th>0</th>\n",
       "      <td>0</td>\n",
       "      <td>3</td>\n",
       "      <td>1</td>\n",
       "      <td>2012-07-03 11:00:00</td>\n",
       "      <td>2</td>\n",
       "    </tr>\n",
       "    <tr>\n",
       "      <th>1</th>\n",
       "      <td>1</td>\n",
       "      <td>4</td>\n",
       "      <td>1</td>\n",
       "      <td>2012-07-03 08:00:00</td>\n",
       "      <td>2</td>\n",
       "    </tr>\n",
       "    <tr>\n",
       "      <th>2</th>\n",
       "      <td>2</td>\n",
       "      <td>6</td>\n",
       "      <td>0</td>\n",
       "      <td>2012-07-03 18:00:00</td>\n",
       "      <td>2</td>\n",
       "    </tr>\n",
       "    <tr>\n",
       "      <th>3</th>\n",
       "      <td>3</td>\n",
       "      <td>7</td>\n",
       "      <td>1</td>\n",
       "      <td>2012-07-03 19:00:00</td>\n",
       "      <td>2</td>\n",
       "    </tr>\n",
       "    <tr>\n",
       "      <th>4</th>\n",
       "      <td>4</td>\n",
       "      <td>8</td>\n",
       "      <td>1</td>\n",
       "      <td>2012-07-03 10:00:00</td>\n",
       "      <td>1</td>\n",
       "    </tr>\n",
       "  </tbody>\n",
       "</table>\n",
       "</div>"
      ],
      "text/plain": [
       "   bookid  facid  memid            starttime  slots\n",
       "0       0      3      1  2012-07-03 11:00:00      2\n",
       "1       1      4      1  2012-07-03 08:00:00      2\n",
       "2       2      6      0  2012-07-03 18:00:00      2\n",
       "3       3      7      1  2012-07-03 19:00:00      2\n",
       "4       4      8      1  2012-07-03 10:00:00      1"
      ]
     },
     "execution_count": 6,
     "metadata": {},
     "output_type": "execute_result"
    }
   ],
   "source": [
    "df_bookings.head()"
   ]
  },
  {
   "cell_type": "code",
   "execution_count": 7,
   "metadata": {
    "scrolled": true
   },
   "outputs": [
    {
     "data": {
      "text/html": [
       "<div>\n",
       "<style scoped>\n",
       "    .dataframe tbody tr th:only-of-type {\n",
       "        vertical-align: middle;\n",
       "    }\n",
       "\n",
       "    .dataframe tbody tr th {\n",
       "        vertical-align: top;\n",
       "    }\n",
       "\n",
       "    .dataframe thead th {\n",
       "        text-align: right;\n",
       "    }\n",
       "</style>\n",
       "<table border=\"1\" class=\"dataframe\">\n",
       "  <thead>\n",
       "    <tr style=\"text-align: right;\">\n",
       "      <th></th>\n",
       "      <th>facid</th>\n",
       "      <th>name</th>\n",
       "      <th>membercost</th>\n",
       "      <th>guestcost</th>\n",
       "      <th>initialoutlay</th>\n",
       "      <th>monthlymaintenance</th>\n",
       "    </tr>\n",
       "  </thead>\n",
       "  <tbody>\n",
       "    <tr>\n",
       "      <th>0</th>\n",
       "      <td>0</td>\n",
       "      <td>Tennis Court 1</td>\n",
       "      <td>5.0</td>\n",
       "      <td>25.0</td>\n",
       "      <td>10000</td>\n",
       "      <td>200</td>\n",
       "    </tr>\n",
       "    <tr>\n",
       "      <th>1</th>\n",
       "      <td>1</td>\n",
       "      <td>Tennis Court 2</td>\n",
       "      <td>5.0</td>\n",
       "      <td>25.0</td>\n",
       "      <td>8000</td>\n",
       "      <td>200</td>\n",
       "    </tr>\n",
       "    <tr>\n",
       "      <th>2</th>\n",
       "      <td>2</td>\n",
       "      <td>Badminton Court</td>\n",
       "      <td>0.0</td>\n",
       "      <td>15.5</td>\n",
       "      <td>4000</td>\n",
       "      <td>50</td>\n",
       "    </tr>\n",
       "    <tr>\n",
       "      <th>3</th>\n",
       "      <td>3</td>\n",
       "      <td>Table Tennis</td>\n",
       "      <td>0.0</td>\n",
       "      <td>5.0</td>\n",
       "      <td>320</td>\n",
       "      <td>10</td>\n",
       "    </tr>\n",
       "    <tr>\n",
       "      <th>4</th>\n",
       "      <td>4</td>\n",
       "      <td>Massage Room 1</td>\n",
       "      <td>9.9</td>\n",
       "      <td>80.0</td>\n",
       "      <td>4000</td>\n",
       "      <td>3000</td>\n",
       "    </tr>\n",
       "  </tbody>\n",
       "</table>\n",
       "</div>"
      ],
      "text/plain": [
       "   facid             name  membercost  guestcost  initialoutlay  \\\n",
       "0      0   Tennis Court 1         5.0       25.0          10000   \n",
       "1      1   Tennis Court 2         5.0       25.0           8000   \n",
       "2      2  Badminton Court         0.0       15.5           4000   \n",
       "3      3     Table Tennis         0.0        5.0            320   \n",
       "4      4   Massage Room 1         9.9       80.0           4000   \n",
       "\n",
       "   monthlymaintenance  \n",
       "0                 200  \n",
       "1                 200  \n",
       "2                  50  \n",
       "3                  10  \n",
       "4                3000  "
      ]
     },
     "execution_count": 7,
     "metadata": {},
     "output_type": "execute_result"
    }
   ],
   "source": [
    "df_facilities = pd.DataFrame(con.execute('SELECT * FROM Facilities').fetchall())\n",
    "df_facilities.columns = con.execute('SELECT * FROM Facilities').keys()\n",
    "df_facilities.head()"
   ]
  },
  {
   "cell_type": "code",
   "execution_count": 8,
   "metadata": {},
   "outputs": [
    {
     "data": {
      "text/html": [
       "<div>\n",
       "<style scoped>\n",
       "    .dataframe tbody tr th:only-of-type {\n",
       "        vertical-align: middle;\n",
       "    }\n",
       "\n",
       "    .dataframe tbody tr th {\n",
       "        vertical-align: top;\n",
       "    }\n",
       "\n",
       "    .dataframe thead th {\n",
       "        text-align: right;\n",
       "    }\n",
       "</style>\n",
       "<table border=\"1\" class=\"dataframe\">\n",
       "  <thead>\n",
       "    <tr style=\"text-align: right;\">\n",
       "      <th></th>\n",
       "      <th>memid</th>\n",
       "      <th>surname</th>\n",
       "      <th>firstname</th>\n",
       "      <th>address</th>\n",
       "      <th>zipcode</th>\n",
       "      <th>telephone</th>\n",
       "      <th>recommendedby</th>\n",
       "      <th>joindate</th>\n",
       "    </tr>\n",
       "  </thead>\n",
       "  <tbody>\n",
       "    <tr>\n",
       "      <th>0</th>\n",
       "      <td>0</td>\n",
       "      <td>GUEST</td>\n",
       "      <td>GUEST</td>\n",
       "      <td>GUEST</td>\n",
       "      <td>0</td>\n",
       "      <td>(000) 000-0000</td>\n",
       "      <td></td>\n",
       "      <td>2012-07-01 00:00:00</td>\n",
       "    </tr>\n",
       "    <tr>\n",
       "      <th>1</th>\n",
       "      <td>1</td>\n",
       "      <td>Smith</td>\n",
       "      <td>Darren</td>\n",
       "      <td>8 Bloomsbury Close, Boston</td>\n",
       "      <td>4321</td>\n",
       "      <td>555-555-5555</td>\n",
       "      <td></td>\n",
       "      <td>2012-07-02 12:02:05</td>\n",
       "    </tr>\n",
       "    <tr>\n",
       "      <th>2</th>\n",
       "      <td>2</td>\n",
       "      <td>Smith</td>\n",
       "      <td>Tracy</td>\n",
       "      <td>8 Bloomsbury Close, New York</td>\n",
       "      <td>4321</td>\n",
       "      <td>555-555-5555</td>\n",
       "      <td></td>\n",
       "      <td>2012-07-02 12:08:23</td>\n",
       "    </tr>\n",
       "    <tr>\n",
       "      <th>3</th>\n",
       "      <td>3</td>\n",
       "      <td>Rownam</td>\n",
       "      <td>Tim</td>\n",
       "      <td>23 Highway Way, Boston</td>\n",
       "      <td>23423</td>\n",
       "      <td>(844) 693-0723</td>\n",
       "      <td></td>\n",
       "      <td>2012-07-03 09:32:15</td>\n",
       "    </tr>\n",
       "    <tr>\n",
       "      <th>4</th>\n",
       "      <td>4</td>\n",
       "      <td>Joplette</td>\n",
       "      <td>Janice</td>\n",
       "      <td>20 Crossing Road, New York</td>\n",
       "      <td>234</td>\n",
       "      <td>(833) 942-4710</td>\n",
       "      <td>1</td>\n",
       "      <td>2012-07-03 10:25:05</td>\n",
       "    </tr>\n",
       "  </tbody>\n",
       "</table>\n",
       "</div>"
      ],
      "text/plain": [
       "   memid   surname firstname                       address  zipcode  \\\n",
       "0      0     GUEST     GUEST                         GUEST        0   \n",
       "1      1     Smith    Darren    8 Bloomsbury Close, Boston     4321   \n",
       "2      2     Smith     Tracy  8 Bloomsbury Close, New York     4321   \n",
       "3      3    Rownam       Tim        23 Highway Way, Boston    23423   \n",
       "4      4  Joplette    Janice    20 Crossing Road, New York      234   \n",
       "\n",
       "        telephone recommendedby             joindate  \n",
       "0  (000) 000-0000                2012-07-01 00:00:00  \n",
       "1    555-555-5555                2012-07-02 12:02:05  \n",
       "2    555-555-5555                2012-07-02 12:08:23  \n",
       "3  (844) 693-0723                2012-07-03 09:32:15  \n",
       "4  (833) 942-4710             1  2012-07-03 10:25:05  "
      ]
     },
     "execution_count": 8,
     "metadata": {},
     "output_type": "execute_result"
    }
   ],
   "source": [
    "df_members = pd.DataFrame(con.execute('SELECT * FROM Members').fetchall())\n",
    "df_members.columns = con.execute('SELECT * FROM Members').keys()\n",
    "df_members.head()"
   ]
  },
  {
   "cell_type": "code",
   "execution_count": 9,
   "metadata": {},
   "outputs": [],
   "source": [
    "# Solution to Q10\n",
    "df_ans10 = pd.read_sql_query(\"\"\"SELECT f.name AS 'Facility_Name',\n",
    "                                       SUM(CASE WHEN memid <> 0 THEN f.membercost*b.slots\n",
    "                                           ELSE f.guestcost*b.slots END) AS 'Revenue'\n",
    "                                FROM Bookings AS b\n",
    "                                LEFT Join Facilities AS f\n",
    "                                USING(facid)\n",
    "                                GROUP BY f.name\n",
    "                                HAVING Revenue < 1000\n",
    "                                ORDER BY Revenue\"\"\", engine)"
   ]
  },
  {
   "cell_type": "code",
   "execution_count": 10,
   "metadata": {},
   "outputs": [
    {
     "name": "stdout",
     "output_type": "stream",
     "text": [
      "   Facility_Name  Revenue\n",
      "0   Table Tennis      180\n",
      "1  Snooker Table      240\n",
      "2     Pool Table      270\n"
     ]
    }
   ],
   "source": [
    "print(df_ans10)"
   ]
  },
  {
   "cell_type": "code",
   "execution_count": 11,
   "metadata": {},
   "outputs": [],
   "source": [
    "# Solution to Q11\n",
    "df_ans11 = pd.read_sql_query(\"\"\"SELECT (m1.surname || ', ' || m1.firstname) AS 'Member_Name',\n",
    "                                       (m2.surname || ', ' || m2.firstname) AS 'Recommended_By'\n",
    "                                FROM Members AS m1\n",
    "                                LEFT JOIN Members AS m2\n",
    "                                ON m1.recommendedby = m2.memid\n",
    "                                WHERE (m1.recommendedby <> '')\n",
    "                                ORDER BY Member_Name\"\"\", engine)"
   ]
  },
  {
   "cell_type": "code",
   "execution_count": 12,
   "metadata": {},
   "outputs": [
    {
     "name": "stdout",
     "output_type": "stream",
     "text": [
      "                 Member_Name      Recommended_By\n",
      "0            Bader, Florence    Stibbons, Ponder\n",
      "1                Baker, Anne    Stibbons, Ponder\n",
      "2             Baker, Timothy     Farrell, Jemima\n",
      "3                Boothe, Tim         Rownam, Tim\n",
      "4            Butters, Gerald       Smith, Darren\n",
      "5               Coplin, Joan      Baker, Timothy\n",
      "6             Crumpet, Erica        Smith, Tracy\n",
      "7                Dare, Nancy    Joplette, Janice\n",
      "8           Genting, Matthew     Butters, Gerald\n",
      "9                 Hunt, John  Purview, Millicent\n",
      "10              Jones, David    Joplette, Janice\n",
      "11            Jones, Douglas        Jones, David\n",
      "12          Joplette, Janice       Smith, Darren\n",
      "13           Mackenzie, Anna       Smith, Darren\n",
      "14             Owen, Charles       Smith, Darren\n",
      "15             Pinker, David     Farrell, Jemima\n",
      "16        Purview, Millicent        Smith, Tracy\n",
      "17         Rumney, Henrietta    Genting, Matthew\n",
      "18         Sarwin, Ramnaresh     Bader, Florence\n",
      "19               Smith, Jack       Smith, Darren\n",
      "20          Stibbons, Ponder       Tracy, Burton\n",
      "21  Worthington-Smyth, Henry        Smith, Tracy\n"
     ]
    }
   ],
   "source": [
    "print(df_ans11)"
   ]
  },
  {
   "cell_type": "code",
   "execution_count": 13,
   "metadata": {},
   "outputs": [],
   "source": [
    "# Solution to Q12\n",
    "# The duration of slot is half an hour so usage can be calculated by multiplying the number of slots with 30 minutes\n",
    "# and summing them up\n",
    "df_ans12 = pd.read_sql_query(\"\"\"SELECT f.name AS 'Facility_Name',\n",
    "                                       SUM(b.slots*30) AS 'Usage_in_mins'\n",
    "                                FROM Bookings AS b\n",
    "                                LEFT JOIN Facilities as f\n",
    "                                USING(facid)\n",
    "                                WHERE b.memid <> 0\n",
    "                                GROUP BY f.name\n",
    "                                ORDER BY Usage_in_mins\"\"\", engine)"
   ]
  },
  {
   "cell_type": "code",
   "execution_count": 14,
   "metadata": {},
   "outputs": [
    {
     "name": "stdout",
     "output_type": "stream",
     "text": [
      "     Facility_Name  Usage_in_mins\n",
      "0   Massage Room 2           1620\n",
      "1     Squash Court          12540\n",
      "2     Table Tennis          23820\n",
      "3       Pool Table          25680\n",
      "4    Snooker Table          25800\n",
      "5   Tennis Court 2          26460\n",
      "6   Massage Room 1          26520\n",
      "7   Tennis Court 1          28710\n",
      "8  Badminton Court          32580\n"
     ]
    }
   ],
   "source": [
    "print(df_ans12)"
   ]
  },
  {
   "cell_type": "code",
   "execution_count": 15,
   "metadata": {},
   "outputs": [],
   "source": [
    "# Solution to Q13\n",
    "df_ans13 = pd.read_sql_query(\"\"\"SELECT f.name AS 'Facility_Name',\n",
    "                                       SUM(b.slots*30) AS 'Usage_in_mins',\n",
    "                                       strftime('%m', b.starttime) as 'Month'\n",
    "                                FROM Bookings AS b\n",
    "                                LEFT JOIN Facilities as f\n",
    "                                USING(facid)\n",
    "                                WHERE b.memid <> 0\n",
    "                                GROUP BY strftime('%m', b.starttime), f.name\n",
    "                                ORDER BY f.name, Month\"\"\", engine)"
   ]
  },
  {
   "cell_type": "code",
   "execution_count": 16,
   "metadata": {},
   "outputs": [
    {
     "name": "stdout",
     "output_type": "stream",
     "text": [
      "      Facility_Name  Usage_in_mins Month\n",
      "0   Badminton Court           4950    07\n",
      "1   Badminton Court          12420    08\n",
      "2   Badminton Court          15210    09\n",
      "3    Massage Room 1           4980    07\n",
      "4    Massage Room 1           9480    08\n",
      "5    Massage Room 1          12060    09\n",
      "6    Massage Room 2            240    07\n",
      "7    Massage Room 2            540    08\n",
      "8    Massage Room 2            840    09\n",
      "9        Pool Table           3300    07\n",
      "10       Pool Table           9090    08\n",
      "11       Pool Table          13290    09\n",
      "12    Snooker Table           4200    07\n",
      "13    Snooker Table           9480    08\n",
      "14    Snooker Table          12120    09\n",
      "15     Squash Court           1500    07\n",
      "16     Squash Court           5520    08\n",
      "17     Squash Court           5520    09\n",
      "18     Table Tennis           2940    07\n",
      "19     Table Tennis           8880    08\n",
      "20     Table Tennis          12000    09\n",
      "21   Tennis Court 1           6030    07\n",
      "22   Tennis Court 1          10170    08\n",
      "23   Tennis Court 1          12510    09\n",
      "24   Tennis Court 2           3690    07\n",
      "25   Tennis Court 2          10350    08\n",
      "26   Tennis Court 2          12420    09\n"
     ]
    }
   ],
   "source": [
    "print(df_ans13)"
   ]
  },
  {
   "cell_type": "code",
   "execution_count": 17,
   "metadata": {},
   "outputs": [],
   "source": [
    "con.close()"
   ]
  }
 ],
 "metadata": {
  "kernelspec": {
   "display_name": "Python 3",
   "language": "python",
   "name": "python3"
  },
  "language_info": {
   "codemirror_mode": {
    "name": "ipython",
    "version": 3
   },
   "file_extension": ".py",
   "mimetype": "text/x-python",
   "name": "python",
   "nbconvert_exporter": "python",
   "pygments_lexer": "ipython3",
   "version": "3.7.7"
  }
 },
 "nbformat": 4,
 "nbformat_minor": 4
}
