{
 "cells": [
  {
   "cell_type": "markdown",
   "metadata": {
    "colab_type": "text",
    "id": "cf5CmXQCZyF1"
   },
   "source": [
    "# Guided Capstone Step 4. Pre-Processing and Training Data Development"
   ]
  },
  {
   "cell_type": "markdown",
   "metadata": {
    "colab_type": "text",
    "id": "b2jue2jPGJlt"
   },
   "source": [
    "**The Data Science Method**  \n",
    "\n",
    "\n",
    "1.   Problem Identification \n",
    "\n",
    "\n",
    "2.   Data Wrangling \n",
    "  \n",
    " \n",
    "3.   Exploratory Data Analysis   \n",
    "\n",
    "4.   **Pre-processing and Training Data Development**  \n",
    " * Create dummy or indicator features for categorical variables\n",
    "  * Standardize the magnitude of numeric features\n",
    "  * Split into testing and training datasets\n",
    "  * Apply scaler to the testing set\n",
    "5.   Modeling \n",
    "  * Fit Models with Training Data Set\n",
    "  * Review Model Outcomes — Iterate over additional models as needed.\n",
    "  * Identify the Final Model\n",
    "\n",
    "6.   Documentation\n",
    "  * Review the Results\n",
    "  * Present and share your findings - storytelling\n",
    "  * Finalize Code \n",
    "  * Finalize Documentation"
   ]
  },
  {
   "cell_type": "markdown",
   "metadata": {
    "colab_type": "text",
    "id": "K8xfkAqqZyF2"
   },
   "source": [
    "**<font color='teal'> Start by loading the necessary packages as we did in step 3 and printing out our current working directory just to confirm we are in the correct project directory. </font>**"
   ]
  },
  {
   "cell_type": "code",
   "execution_count": 45,
   "metadata": {
    "colab": {},
    "colab_type": "code",
    "id": "ry6WPL5eZyF3"
   },
   "outputs": [
    {
     "data": {
      "text/plain": [
       "'D:\\\\Springboard\\\\Technical Project\\\\4_Guided Capstone Project\\\\5_Modeling'"
      ]
     },
     "execution_count": 45,
     "metadata": {},
     "output_type": "execute_result"
    }
   ],
   "source": [
    "import os\n",
    "import numpy as np\n",
    "import pandas as pd\n",
    "import matplotlib.pyplot as plt\n",
    "import seaborn as sns\n",
    "%matplotlib inline\n",
    "\n",
    "os.getcwd()"
   ]
  },
  {
   "cell_type": "markdown",
   "metadata": {
    "colab_type": "text",
    "id": "630T-ogRZyF8"
   },
   "source": [
    "**<font color='teal'>  Load the csv file you created in step 3, remember it should be saved inside your data subfolder and print the first five rows.</font>**"
   ]
  },
  {
   "cell_type": "code",
   "execution_count": 46,
   "metadata": {
    "colab": {},
    "colab_type": "code",
    "id": "dMNbk0u3ZyF9"
   },
   "outputs": [
    {
     "name": "stdout",
     "output_type": "stream",
     "text": [
      "                            Name       state  summit_elev  vertical_drop  \\\n",
      "0               Hilltop Ski Area      Alaska         2090            294   \n",
      "1            Sunrise Park Resort     Arizona        11100           1800   \n",
      "2  Yosemite Ski & Snowboard Area  California         7800            600   \n",
      "3               Donner Ski Ranch  California         8012            750   \n",
      "4                  June Mountain  California        10090           2590   \n",
      "\n",
      "   trams  fastEight  fastSixes  fastQuads  quad  triple  double  surface  \\\n",
      "0      0        0.0          0          0     0       1       0        2   \n",
      "1      0        0.0          0          1     2       3       1        0   \n",
      "2      0        0.0          0          0     0       1       3        1   \n",
      "3      0        0.0          0          0     0       1       5        2   \n",
      "4      0        0.0          0          2     0       0       4        1   \n",
      "\n",
      "   total_chairs  Runs  TerrainParks  LongestRun_mi  SkiableTerrain_ac  \\\n",
      "0             3  13.0           1.0            1.0               30.0   \n",
      "1             7  65.0           2.0            1.2              800.0   \n",
      "2             5  10.0           2.0            0.4               88.0   \n",
      "3             8  52.0           2.0            1.5              505.0   \n",
      "4             7  41.0           2.0            2.0             1500.0   \n",
      "\n",
      "   Snow Making_ac  daysOpenLastYear  yearsOpen  averageSnowfall  AdultWeekday  \\\n",
      "0            30.0             150.0       36.0             69.0     30.000000   \n",
      "1            80.0             115.0       49.0            250.0     74.000000   \n",
      "2           100.0             110.0       84.0            300.0     47.000000   \n",
      "3            60.0             163.0       82.0            400.0     75.000000   \n",
      "4           100.0             128.0       58.0            250.0     57.916957   \n",
      "\n",
      "   AdultWeekend  projectedDaysOpen  NightSkiing_ac  clusters  \n",
      "0      34.00000              152.0            30.0         0  \n",
      "1      78.00000              104.0            80.0         1  \n",
      "2      47.00000              107.0             0.0         1  \n",
      "3      75.00000              170.0             0.0         1  \n",
      "4      64.16681              128.0             0.0         1  \n"
     ]
    }
   ],
   "source": [
    "df = pd.read_csv('D:\\\\Springboard\\Technical Project\\\\4_Guided Capstone Project\\\\2_Data Wrangling\\\\data\\\\step3_output.csv', index_col=0)\n",
    "df.reset_index(inplace=True, drop=True)\n",
    "pd.set_option('display.max_columns', None)\n",
    "print(df.head())"
   ]
  },
  {
   "cell_type": "markdown",
   "metadata": {
    "colab_type": "text",
    "id": "zkBHf9smZyGB"
   },
   "source": [
    "## Create dummy features for categorical variables"
   ]
  },
  {
   "cell_type": "markdown",
   "metadata": {
    "colab_type": "text",
    "id": "vWKHm0NhAnrJ"
   },
   "source": [
    "**<font color='teal'> Create dummy variables for `state`. Add the dummies back to the dataframe and remove the original column for `state`. </font>**\n",
    "\n",
    "Hint: you can see an example of how to execute this in Aiden's article on preprocessing [here](https://medium.com/@aiden.dataminer/the-data-science-method-dsm-pre-processing-and-training-data-development-fd2d75182967). "
   ]
  },
  {
   "cell_type": "code",
   "execution_count": 47,
   "metadata": {
    "colab": {},
    "colab_type": "code",
    "id": "lZqWk8ltZyGZ"
   },
   "outputs": [
    {
     "name": "stdout",
     "output_type": "stream",
     "text": [
      "<class 'pandas.core.frame.DataFrame'>\n",
      "RangeIndex: 164 entries, 0 to 163\n",
      "Data columns (total 60 columns):\n",
      " #   Column             Non-Null Count  Dtype  \n",
      "---  ------             --------------  -----  \n",
      " 0   Name               164 non-null    object \n",
      " 1   summit_elev        164 non-null    int64  \n",
      " 2   vertical_drop      164 non-null    int64  \n",
      " 3   trams              164 non-null    int64  \n",
      " 4   fastEight          164 non-null    float64\n",
      " 5   fastSixes          164 non-null    int64  \n",
      " 6   fastQuads          164 non-null    int64  \n",
      " 7   quad               164 non-null    int64  \n",
      " 8   triple             164 non-null    int64  \n",
      " 9   double             164 non-null    int64  \n",
      " 10  surface            164 non-null    int64  \n",
      " 11  total_chairs       164 non-null    int64  \n",
      " 12  Runs               164 non-null    float64\n",
      " 13  TerrainParks       164 non-null    float64\n",
      " 14  LongestRun_mi      164 non-null    float64\n",
      " 15  SkiableTerrain_ac  164 non-null    float64\n",
      " 16  Snow Making_ac     164 non-null    float64\n",
      " 17  daysOpenLastYear   164 non-null    float64\n",
      " 18  yearsOpen          164 non-null    float64\n",
      " 19  averageSnowfall    164 non-null    float64\n",
      " 20  AdultWeekday       164 non-null    float64\n",
      " 21  AdultWeekend       164 non-null    float64\n",
      " 22  projectedDaysOpen  164 non-null    float64\n",
      " 23  NightSkiing_ac     164 non-null    float64\n",
      " 24  clusters           164 non-null    int64  \n",
      " 25  Alaska             164 non-null    uint8  \n",
      " 26  Arizona            164 non-null    uint8  \n",
      " 27  California         164 non-null    uint8  \n",
      " 28  Colorado           164 non-null    uint8  \n",
      " 29  Connecticut        164 non-null    uint8  \n",
      " 30  Idaho              164 non-null    uint8  \n",
      " 31  Illinois           164 non-null    uint8  \n",
      " 32  Indiana            164 non-null    uint8  \n",
      " 33  Iowa               164 non-null    uint8  \n",
      " 34  Maine              164 non-null    uint8  \n",
      " 35  Maryland           164 non-null    uint8  \n",
      " 36  Massachusetts      164 non-null    uint8  \n",
      " 37  Michigan           164 non-null    uint8  \n",
      " 38  Minnesota          164 non-null    uint8  \n",
      " 39  Missouri           164 non-null    uint8  \n",
      " 40  Montana            164 non-null    uint8  \n",
      " 41  Nevada             164 non-null    uint8  \n",
      " 42  New Hampshire      164 non-null    uint8  \n",
      " 43  New Jersey         164 non-null    uint8  \n",
      " 44  New Mexico         164 non-null    uint8  \n",
      " 45  New York           164 non-null    uint8  \n",
      " 46  North Carolina     164 non-null    uint8  \n",
      " 47  Ohio               164 non-null    uint8  \n",
      " 48  Oregon             164 non-null    uint8  \n",
      " 49  Pennsylvania       164 non-null    uint8  \n",
      " 50  Rhode Island       164 non-null    uint8  \n",
      " 51  South Dakota       164 non-null    uint8  \n",
      " 52  Tennessee          164 non-null    uint8  \n",
      " 53  Utah               164 non-null    uint8  \n",
      " 54  Vermont            164 non-null    uint8  \n",
      " 55  Virginia           164 non-null    uint8  \n",
      " 56  Washington         164 non-null    uint8  \n",
      " 57  West Virginia      164 non-null    uint8  \n",
      " 58  Wisconsin          164 non-null    uint8  \n",
      " 59  Wyoming            164 non-null    uint8  \n",
      "dtypes: float64(13), int64(11), object(1), uint8(35)\n",
      "memory usage: 37.8+ KB\n",
      "                            Name  summit_elev  vertical_drop  trams  \\\n",
      "0               Hilltop Ski Area         2090            294      0   \n",
      "1            Sunrise Park Resort        11100           1800      0   \n",
      "2  Yosemite Ski & Snowboard Area         7800            600      0   \n",
      "3               Donner Ski Ranch         8012            750      0   \n",
      "4                  June Mountain        10090           2590      0   \n",
      "\n",
      "   fastEight  fastSixes  fastQuads  quad  triple  double  surface  \\\n",
      "0        0.0          0          0     0       1       0        2   \n",
      "1        0.0          0          1     2       3       1        0   \n",
      "2        0.0          0          0     0       1       3        1   \n",
      "3        0.0          0          0     0       1       5        2   \n",
      "4        0.0          0          2     0       0       4        1   \n",
      "\n",
      "   total_chairs  Runs  TerrainParks  LongestRun_mi  SkiableTerrain_ac  \\\n",
      "0             3  13.0           1.0            1.0               30.0   \n",
      "1             7  65.0           2.0            1.2              800.0   \n",
      "2             5  10.0           2.0            0.4               88.0   \n",
      "3             8  52.0           2.0            1.5              505.0   \n",
      "4             7  41.0           2.0            2.0             1500.0   \n",
      "\n",
      "   Snow Making_ac  daysOpenLastYear  yearsOpen  averageSnowfall  AdultWeekday  \\\n",
      "0            30.0             150.0       36.0             69.0     30.000000   \n",
      "1            80.0             115.0       49.0            250.0     74.000000   \n",
      "2           100.0             110.0       84.0            300.0     47.000000   \n",
      "3            60.0             163.0       82.0            400.0     75.000000   \n",
      "4           100.0             128.0       58.0            250.0     57.916957   \n",
      "\n",
      "   AdultWeekend  projectedDaysOpen  NightSkiing_ac  clusters  Alaska  Arizona  \\\n",
      "0      34.00000              152.0            30.0         0       1        0   \n",
      "1      78.00000              104.0            80.0         1       0        1   \n",
      "2      47.00000              107.0             0.0         1       0        0   \n",
      "3      75.00000              170.0             0.0         1       0        0   \n",
      "4      64.16681              128.0             0.0         1       0        0   \n",
      "\n",
      "   California  Colorado  Connecticut  Idaho  Illinois  Indiana  Iowa  Maine  \\\n",
      "0           0         0            0      0         0        0     0      0   \n",
      "1           0         0            0      0         0        0     0      0   \n",
      "2           1         0            0      0         0        0     0      0   \n",
      "3           1         0            0      0         0        0     0      0   \n",
      "4           1         0            0      0         0        0     0      0   \n",
      "\n",
      "   Maryland  Massachusetts  Michigan  Minnesota  Missouri  Montana  Nevada  \\\n",
      "0         0              0         0          0         0        0       0   \n",
      "1         0              0         0          0         0        0       0   \n",
      "2         0              0         0          0         0        0       0   \n",
      "3         0              0         0          0         0        0       0   \n",
      "4         0              0         0          0         0        0       0   \n",
      "\n",
      "   New Hampshire  New Jersey  New Mexico  New York  North Carolina  Ohio  \\\n",
      "0              0           0           0         0               0     0   \n",
      "1              0           0           0         0               0     0   \n",
      "2              0           0           0         0               0     0   \n",
      "3              0           0           0         0               0     0   \n",
      "4              0           0           0         0               0     0   \n",
      "\n",
      "   Oregon  Pennsylvania  Rhode Island  South Dakota  Tennessee  Utah  Vermont  \\\n",
      "0       0             0             0             0          0     0        0   \n",
      "1       0             0             0             0          0     0        0   \n",
      "2       0             0             0             0          0     0        0   \n",
      "3       0             0             0             0          0     0        0   \n",
      "4       0             0             0             0          0     0        0   \n",
      "\n",
      "   Virginia  Washington  West Virginia  Wisconsin  Wyoming  \n",
      "0         0           0              0          0        0  \n",
      "1         0           0              0          0        0  \n",
      "2         0           0              0          0        0  \n",
      "3         0           0              0          0        0  \n",
      "4         0           0              0          0        0  \n"
     ]
    }
   ],
   "source": [
    "df =pd.concat([df.drop('state', axis=1), pd.get_dummies(df.state)], axis=1)\n",
    "df.info()\n",
    "print(df.head())"
   ]
  },
  {
   "cell_type": "markdown",
   "metadata": {
    "colab_type": "text",
    "id": "HnDVhE1-ZyGF"
   },
   "source": [
    "## Standardize the magnitude of numeric features"
   ]
  },
  {
   "cell_type": "markdown",
   "metadata": {
    "colab": {},
    "colab_type": "code",
    "id": "gW3D-WlDZyGG"
   },
   "source": [
    "**<font color='teal'> Using sklearn preprocessing standardize the scale of the features of the dataframe except the name of the resort which we done't need in the dataframe for modeling, so it can be droppped here as well. Also, we want to hold out our response variable(s) so we can have their true values available for model performance review. Let's set `AdultWeekend` to the y variable as our response for scaling and modeling. Later we will go back and consider the `AdultWeekday`, `dayOpenLastYear`, and `projectedDaysOpen`. For now leave them in the development dataframe. </font>**"
   ]
  },
  {
   "cell_type": "code",
   "execution_count": 48,
   "metadata": {
    "colab": {},
    "colab_type": "code",
    "id": "IZL-q-KtAYI6"
   },
   "outputs": [],
   "source": [
    "# first we import the preprocessing package from the sklearn library\n",
    "from sklearn import preprocessing\n",
    "\n",
    "# Declare an explanatory variable, called X,and assign it the result of dropping 'Name' and 'AdultWeekend' from the df\n",
    "X = df.drop(['Name','AdultWeekend'], axis=1)\n",
    "\n",
    "# Declare a response variable, called y, and assign it the AdultWeekend column of the df \n",
    "y = df.AdultWeekend \n",
    "\n",
    "# Here we use the StandardScaler() method of the preprocessing package, and then call the fit() method with parameter X \n",
    "scaler = preprocessing.StandardScaler().fit(X)\n",
    "\n",
    "# Declare a variable called X_scaled, and assign it the result of calling the transform() method with parameter X \n",
    "X_scaled=scaler.transform(X)"
   ]
  },
  {
   "cell_type": "markdown",
   "metadata": {
    "colab_type": "text",
    "id": "GAT8h4_mZyGK"
   },
   "source": [
    "## Split into training and testing datasets"
   ]
  },
  {
   "cell_type": "markdown",
   "metadata": {
    "colab_type": "text",
    "id": "6rdS8EGeAnrW"
   },
   "source": [
    "**<font color='teal'> Using sklearn model selection import train_test_split, and create a 75/25 split with the y = `AdultWeekend`. We will start by using the adult weekend ticket price as our response variable for modeling.</font>**"
   ]
  },
  {
   "cell_type": "code",
   "execution_count": 49,
   "metadata": {
    "colab": {},
    "colab_type": "code",
    "id": "BSkPut0gguds"
   },
   "outputs": [],
   "source": [
    "# Import the train_test_split function from the sklearn.model_selection utility.  \n",
    "from sklearn.model_selection import train_test_split\n",
    "\n",
    "# Get the 1-dimensional flattened array of our response variable y by calling the ravel() function on y\n",
    "y = y.ravel()\n",
    "\n",
    "# Call the train_test_split() function with the first two parameters set to X_scaled and y \n",
    "# Declare four variables, X_train, X_test, y_train and y_test separated by commas \n",
    "X_train, X_test, y_train, y_test = train_test_split(X_scaled, y, test_size=0.25, random_state=1)"
   ]
  },
  {
   "cell_type": "markdown",
   "metadata": {
    "colab_type": "text",
    "id": "UayqbwkWAnra"
   },
   "source": [
    "Here we start the actual modeling work. First let's fit a multiple linear regression model to predict the `AdultWeekend` price."
   ]
  },
  {
   "cell_type": "markdown",
   "metadata": {
    "colab_type": "text",
    "id": "83fkLldXFCNd"
   },
   "source": [
    "# Guided Capstone Step 5. Modeling\n"
   ]
  },
  {
   "cell_type": "markdown",
   "metadata": {
    "colab_type": "text",
    "id": "JbZXsVevfr9M"
   },
   "source": [
    "This is the fifth step in the Data Science Method. In the previous steps you cleaned and prepared the datasets. Now it's time to get into the most exciting part: modeling! In this exercise, you'll build three different models and compare each model's performance. In the end, you'll choose the best model for demonstrating insights to Big Mountain management.\n",
    "\n",
    "\n",
    "\n",
    "### **The Data Science Method**  \n",
    "\n",
    "\n",
    "1.   Problem Identification \n",
    "\n",
    "2.   Data Wrangling \n",
    "  \n",
    "3.   Exploratory Data Analysis \n",
    " \n",
    "4.   Pre-processing and Training Data Development\n",
    "\n",
    "5.   **Modeling**\n",
    "  * Fit Models with Training Data Set\n",
    "  * Review Model Outcomes — Iterate over additional models as needed.\n",
    "  * Identify the Final Model\n",
    "\n",
    "6.   Documentation\n",
    "  * Review the Results\n",
    "  * Present and share your findings - storytelling\n",
    "  * Finalize Code \n",
    "  * Finalize Documentation"
   ]
  },
  {
   "cell_type": "markdown",
   "metadata": {
    "colab_type": "text",
    "id": "D_wfsP_-Anra"
   },
   "source": [
    "## Fit Models with a Training Dataset"
   ]
  },
  {
   "cell_type": "markdown",
   "metadata": {
    "colab_type": "text",
    "id": "CoI8S5SwAnrc"
   },
   "source": [
    "**<font color='teal'> Using sklearn, fit the model on your training dataset.</font>**"
   ]
  },
  {
   "cell_type": "markdown",
   "metadata": {
    "colab_type": "text",
    "id": "P_GFr8sRAnrd"
   },
   "source": [
    "#### Model 1"
   ]
  },
  {
   "cell_type": "code",
   "execution_count": 50,
   "metadata": {
    "colab": {},
    "colab_type": "code",
    "id": "fW6K7uOPAnre"
   },
   "outputs": [],
   "source": [
    "#all first model set\n",
    "from sklearn import linear_model\n",
    "from sklearn.metrics import explained_variance_score,mean_absolute_error\n",
    "lm = linear_model.LinearRegression()\n",
    "model = lm.fit(X_train,y_train)"
   ]
  },
  {
   "cell_type": "markdown",
   "metadata": {
    "colab_type": "text",
    "id": "1fHqz9-WAnrg"
   },
   "source": [
    "**<font color='teal'> Predict on the testing dataset and score the model performance with the y_test set and the y-pred values. The explained variance is a measure of the variation explained by the model. This is also known as the R-squared value. </font>**\n",
    "\n",
    "Hint: you will have to use the `predict()` method here as it's used in this [DSM article](https://medium.com/@aiden.dataminer/the-data-science-method-dsm-modeling-56b4233cad1b) about modeling. "
   ]
  },
  {
   "cell_type": "code",
   "execution_count": 51,
   "metadata": {
    "colab": {},
    "colab_type": "code",
    "id": "nIo01lFEAnrh"
   },
   "outputs": [
    {
     "data": {
      "text/plain": [
       "array([46.24967079, 58.04849891, 49.87467079, 38.05045204, 61.33170204,\n",
       "       59.61490516, 72.39810829, 49.96256141, 51.95865516, 51.68326454,\n",
       "       57.34146766, 51.85513954, 58.40787391, 57.70084266, 42.89224891,\n",
       "       60.60513954, 52.87662391, 81.30045204, 72.40396766, 33.81412391,\n",
       "       51.35709266, 50.81412391, 48.97818641, 89.51920204, 48.28678016,\n",
       "       39.69498329, 54.41763954, 69.66178016, 35.40396766, 52.63248329,\n",
       "       48.65201454, 32.79459266, 42.85318641, 86.83170204, 59.13443641,\n",
       "       51.61490516, 75.90592079, 51.01334266, 34.67935829, 73.14224891,\n",
       "       52.43131141])"
      ]
     },
     "execution_count": 51,
     "metadata": {},
     "output_type": "execute_result"
    }
   ],
   "source": [
    "# Make a variable called y_pred and assign it the result of calling predict() on our model variable with parameter X_test\n",
    "y_pred = lm.predict(X_test)\n",
    "y_pred"
   ]
  },
  {
   "cell_type": "markdown",
   "metadata": {
    "colab_type": "text",
    "id": "N4YS0WE2Anrk"
   },
   "source": [
    "## Review Model Outcomes — Iterate over additional models as needed"
   ]
  },
  {
   "cell_type": "code",
   "execution_count": 16,
   "metadata": {
    "colab": {},
    "colab_type": "code",
    "id": "HSh9sGIYAnrk"
   },
   "outputs": [],
   "source": [
    "# You might want to use the explained_variance_score() and mean_absolute_error() metrics.\n",
    "# To do so, you will need to import them from sklearn.metrics. \n",
    "# You can plug y_test and y_pred into the functions to evaluate the model"
   ]
  },
  {
   "cell_type": "code",
   "execution_count": 52,
   "metadata": {
    "colab": {},
    "colab_type": "code",
    "id": "ihzeo8tqAnro"
   },
   "outputs": [
    {
     "name": "stdout",
     "output_type": "stream",
     "text": [
      "The R-square value for Linear Regression is:  0.7035818646515712\n",
      "The mean absolute error for Linear Regression is:  6.786327488143854\n"
     ]
    }
   ],
   "source": [
    "r2 = explained_variance_score(y_test, y_pred)\n",
    "eabs = mean_absolute_error(y_test, y_pred)\n",
    "print(\"The R-square value for Linear Regression is: \", r2)\n",
    "print(\"The mean absolute error for Linear Regression is: \", eabs)"
   ]
  },
  {
   "cell_type": "markdown",
   "metadata": {
    "colab_type": "text",
    "id": "NWJcOuSdAnrr"
   },
   "source": [
    "**<font color='teal'> Print the intercept value from the linear model. </font>**\n",
    "\n",
    "Hint: our linear regression model `lm` has an attribute `intercept_` for the intercept"
   ]
  },
  {
   "cell_type": "code",
   "execution_count": 53,
   "metadata": {
    "colab": {},
    "colab_type": "code",
    "id": "3WzWejn6Anrt"
   },
   "outputs": [
    {
     "name": "stdout",
     "output_type": "stream",
     "text": [
      "56.19888953884918\n"
     ]
    }
   ],
   "source": [
    "print(lm.intercept_)"
   ]
  },
  {
   "cell_type": "markdown",
   "metadata": {
    "colab_type": "text",
    "id": "edajrenAAnrv"
   },
   "source": [
    "**<font color='teal'> The intercept is the mean `AdultWeekend` price for all the resorts given the other characteristics. The addition or subtraction of each of the coefficient values in the regression are numeric adjustments applied to the intercept to provide a particular observation's value for the resulting `AdultWeekend` value. Also, because we took the time to scale our x values in the training data, we can compare each of the coeeficients for the features to determine the feature importances. Print the coefficient values from the linear model and sort in descending order to identify the top ten most important features.</font>** \n",
    "\n",
    "\n",
    "Hint: make sure to review the absolute value of the coefficients, because the adjustment may be positive or negative, but what we are looking for is the magnitude of impact on our response variable."
   ]
  },
  {
   "cell_type": "code",
   "execution_count": 54,
   "metadata": {
    "colab": {},
    "colab_type": "code",
    "id": "FEKc_lmZAnrw"
   },
   "outputs": [
    {
     "name": "stdout",
     "output_type": "stream",
     "text": [
      "                    Coefficient\n",
      "fastSixes          7.201727e+13\n",
      "trams              4.832741e+13\n",
      "New York           1.062219e+13\n",
      "Michigan           9.567362e+12\n",
      "New Hampshire      8.302244e+12\n",
      "Pennsylvania       7.941706e+12\n",
      "Wisconsin          7.941706e+12\n",
      "fastEight          7.537653e+12\n",
      "California         7.149254e+12\n",
      "Minnesota          7.149254e+12\n",
      "Vermont            6.708915e+12\n",
      "Idaho              6.230998e+12\n",
      "New Mexico         6.230998e+12\n",
      "Maine              5.706069e+12\n",
      "Connecticut        5.706069e+12\n",
      "Wyoming            5.706069e+12\n",
      "Massachusetts      5.119687e+12\n",
      "Colorado           5.119687e+12\n",
      "Ohio               5.119687e+12\n",
      "North Carolina     4.447613e+12\n",
      "West Virginia      4.447613e+12\n",
      "Washington         4.447613e+12\n",
      "Utah               4.447613e+12\n",
      "Montana            4.447613e+12\n",
      "Illinois           4.447613e+12\n",
      "Oregon             4.447613e+12\n",
      "Virginia           3.642721e+12\n",
      "Iowa               3.642721e+12\n",
      "Missouri           3.642721e+12\n",
      "Indiana            3.642721e+12\n",
      "Tennessee          2.583731e+12\n",
      "New Jersey         2.583731e+12\n",
      "Rhode Island       2.583731e+12\n",
      "Maryland           2.583731e+12\n",
      "Nevada             2.583731e+12\n",
      "Alaska             2.583731e+12\n",
      "Arizona            2.583731e+12\n",
      "South Dakota       2.583731e+12\n",
      "total_chairs       1.144485e+11\n",
      "surface            6.539139e+10\n",
      "double             6.199559e+10\n",
      "triple             5.389197e+10\n",
      "quad               3.256019e+10\n",
      "fastQuads          2.585711e+10\n",
      "AdultWeekday       8.908203e+00\n",
      "daysOpenLastYear   3.260742e+00\n",
      "projectedDaysOpen  2.656250e+00\n",
      "vertical_drop      2.596632e+00\n",
      "Runs               2.568359e+00\n",
      "NightSkiing_ac     1.031250e+00\n",
      "clusters           8.989258e-01\n",
      "TerrainParks       8.491211e-01\n",
      "summit_elev        8.154989e-01\n",
      "SkiableTerrain_ac  5.937500e-01\n",
      "Snow Making_ac     5.585938e-01\n",
      "LongestRun_mi      2.656250e-01\n",
      "yearsOpen          1.865234e-01\n",
      "averageSnowfall    4.492188e-02\n"
     ]
    }
   ],
   "source": [
    "# You might want to make a pandas DataFrame displaying the coefficients for each state like so: \n",
    "coeff = pd.DataFrame(abs(lm.coef_), X.columns, columns=['Coefficient'])\n",
    "print(coeff.sort_values('Coefficient', ascending=False))"
   ]
  },
  {
   "cell_type": "markdown",
   "metadata": {
    "colab_type": "text",
    "id": "BpdALMoAAnry"
   },
   "source": [
    "**<font color='teal'>You should see that the top ten important features are different states. However, the state is not something the managers at the Big Mountain Resort can do anything about. Given that we care more about actionable traits associated with ticket pricing, rebuild the model without the state features and compare the results. </font>**\n",
    "\n",
    "Hint: Try to construct another model using exactly the steps we followed above. "
   ]
  },
  {
   "cell_type": "markdown",
   "metadata": {
    "colab_type": "text",
    "id": "-mHYA1BzAnrz"
   },
   "source": [
    "#### Model 2"
   ]
  },
  {
   "cell_type": "code",
   "execution_count": 55,
   "metadata": {
    "colab": {},
    "colab_type": "code",
    "id": "Pz1YXAdiAnr0"
   },
   "outputs": [
    {
     "name": "stdout",
     "output_type": "stream",
     "text": [
      "                            Name       state  summit_elev  vertical_drop  \\\n",
      "0               Hilltop Ski Area      Alaska         2090            294   \n",
      "1            Sunrise Park Resort     Arizona        11100           1800   \n",
      "2  Yosemite Ski & Snowboard Area  California         7800            600   \n",
      "3               Donner Ski Ranch  California         8012            750   \n",
      "4                  June Mountain  California        10090           2590   \n",
      "\n",
      "   trams  fastEight  fastSixes  fastQuads  quad  triple  double  surface  \\\n",
      "0      0        0.0          0          0     0       1       0        2   \n",
      "1      0        0.0          0          1     2       3       1        0   \n",
      "2      0        0.0          0          0     0       1       3        1   \n",
      "3      0        0.0          0          0     0       1       5        2   \n",
      "4      0        0.0          0          2     0       0       4        1   \n",
      "\n",
      "   total_chairs  Runs  TerrainParks  LongestRun_mi  SkiableTerrain_ac  \\\n",
      "0             3  13.0           1.0            1.0               30.0   \n",
      "1             7  65.0           2.0            1.2              800.0   \n",
      "2             5  10.0           2.0            0.4               88.0   \n",
      "3             8  52.0           2.0            1.5              505.0   \n",
      "4             7  41.0           2.0            2.0             1500.0   \n",
      "\n",
      "   Snow Making_ac  daysOpenLastYear  yearsOpen  averageSnowfall  AdultWeekday  \\\n",
      "0            30.0             150.0       36.0             69.0     30.000000   \n",
      "1            80.0             115.0       49.0            250.0     74.000000   \n",
      "2           100.0             110.0       84.0            300.0     47.000000   \n",
      "3            60.0             163.0       82.0            400.0     75.000000   \n",
      "4           100.0             128.0       58.0            250.0     57.916957   \n",
      "\n",
      "   AdultWeekend  projectedDaysOpen  NightSkiing_ac  clusters  \n",
      "0      34.00000              152.0            30.0         0  \n",
      "1      78.00000              104.0            80.0         1  \n",
      "2      47.00000              107.0             0.0         1  \n",
      "3      75.00000              170.0             0.0         1  \n",
      "4      64.16681              128.0             0.0         1  \n"
     ]
    }
   ],
   "source": [
    "df2 = pd.read_csv('D:\\\\Springboard\\Technical Project\\\\4_Guided Capstone Project\\\\2_Data Wrangling\\\\data\\\\step3_output.csv', index_col=0)\n",
    "df2.reset_index(inplace=True, drop=True)\n",
    "pd.set_option('display.max_columns', None)\n",
    "print(df2.head())"
   ]
  },
  {
   "cell_type": "code",
   "execution_count": 57,
   "metadata": {},
   "outputs": [],
   "source": [
    "from sklearn import preprocessing\n",
    "\n",
    "X2 = df2.drop(['Name','state', 'AdultWeekend'], axis=1)\n",
    "\n",
    "y2 = df2.AdultWeekend \n",
    "\n",
    "scaler2 = preprocessing.StandardScaler().fit(X2)\n",
    "\n",
    "X2_scaled=scaler2.transform(X2)"
   ]
  },
  {
   "cell_type": "code",
   "execution_count": 58,
   "metadata": {},
   "outputs": [],
   "source": [
    "from sklearn.model_selection import train_test_split\n",
    "\n",
    "y2 = y2.ravel()\n",
    "\n",
    "X2_train, X2_test, y2_train, y2_test = train_test_split(X2_scaled, y2, test_size=0.25, random_state=1)"
   ]
  },
  {
   "cell_type": "code",
   "execution_count": 59,
   "metadata": {},
   "outputs": [],
   "source": [
    "#all first model set\n",
    "from sklearn import linear_model\n",
    "from sklearn.metrics import explained_variance_score,mean_absolute_error\n",
    "lm2 = linear_model.LinearRegression()\n",
    "model2 = lm2.fit(X2_train,y2_train)"
   ]
  },
  {
   "cell_type": "code",
   "execution_count": 60,
   "metadata": {},
   "outputs": [
    {
     "data": {
      "text/plain": [
       "array([52.62940817, 63.09379392, 52.73766612, 43.76662344, 64.05743319,\n",
       "       53.80329391, 63.39750635, 41.34199672, 61.73039696, 42.44553818,\n",
       "       56.07434224, 55.85594174, 61.70624138, 62.75217907, 49.46624177,\n",
       "       52.97540822, 50.20468032, 72.11724044, 76.28353806, 29.83455638,\n",
       "       56.71485208, 60.41982036, 35.66698059, 94.35889381, 49.02369933,\n",
       "       44.93646972, 54.8611821 , 71.41694919, 34.97385236, 49.85012958,\n",
       "       50.27374152, 35.57364914, 31.63905156, 82.41412203, 61.02683557,\n",
       "       54.65439258, 70.64999529, 60.30107059, 37.09369579, 76.47251681,\n",
       "       60.9736678 ])"
      ]
     },
     "execution_count": 60,
     "metadata": {},
     "output_type": "execute_result"
    }
   ],
   "source": [
    "# Make a variable called y_pred and assign it the result of calling predict() on our model variable with parameter X_test\n",
    "y2_pred = lm2.predict(X2_test)\n",
    "y2_pred"
   ]
  },
  {
   "cell_type": "code",
   "execution_count": 61,
   "metadata": {
    "colab": {},
    "colab_type": "code",
    "id": "nM1EGf16Anr2"
   },
   "outputs": [
    {
     "name": "stdout",
     "output_type": "stream",
     "text": [
      "The R-square value for Linear Regression is:  0.7312443670662345\n",
      "The mean absolute error for Linear Regression is:  6.44686769878445\n"
     ]
    }
   ],
   "source": [
    "r2_2 = explained_variance_score(y2_test, y2_pred)\n",
    "eabs_2 = mean_absolute_error(y2_test, y2_pred)\n",
    "print(\"The R-square value for Linear Regression is: \", r2_2)\n",
    "print(\"The mean absolute error for Linear Regression is: \", eabs_2)"
   ]
  },
  {
   "cell_type": "code",
   "execution_count": 62,
   "metadata": {},
   "outputs": [
    {
     "name": "stdout",
     "output_type": "stream",
     "text": [
      "56.33096417601227\n"
     ]
    }
   ],
   "source": [
    "print(lm2.intercept_)"
   ]
  },
  {
   "cell_type": "code",
   "execution_count": 64,
   "metadata": {},
   "outputs": [
    {
     "name": "stdout",
     "output_type": "stream",
     "text": [
      "                    Coefficient\n",
      "AdultWeekday       1.074045e+01\n",
      "clusters           3.382737e+00\n",
      "daysOpenLastYear   3.338655e+00\n",
      "summit_elev        2.829727e+00\n",
      "projectedDaysOpen  2.364513e+00\n",
      "Runs               1.895608e+00\n",
      "averageSnowfall    1.637446e+00\n",
      "quad               1.358054e+00\n",
      "double             8.939274e-01\n",
      "surface            6.498532e-01\n",
      "total_chairs       5.896647e-01\n",
      "NightSkiing_ac     4.351204e-01\n",
      "LongestRun_mi      3.915734e-01\n",
      "vertical_drop      3.786582e-01\n",
      "yearsOpen          3.646325e-01\n",
      "TerrainParks       3.070557e-01\n",
      "triple             2.945626e-01\n",
      "fastQuads          2.139279e-01\n",
      "Snow Making_ac     8.885219e-02\n",
      "SkiableTerrain_ac  2.419213e-02\n",
      "trams              2.664535e-15\n",
      "fastSixes          8.881784e-16\n",
      "fastEight          4.440892e-16\n"
     ]
    }
   ],
   "source": [
    "coeff_2 = pd.DataFrame(abs(lm2.coef_), X2.columns, columns=['Coefficient'])\n",
    "print(coeff_2.sort_values('Coefficient', ascending=False))"
   ]
  },
  {
   "cell_type": "markdown",
   "metadata": {
    "colab_type": "text",
    "id": "JWjQLr3LAnr6"
   },
   "source": [
    "**<font color='teal'> When reviewing our new model coefficients, we see `summit_elev` is now in the number two spot. This is also difficult to change from a management prespective and highly correlated with `base_elev` and `vertical_drop`.  This time, rebuild the model without the state features and without the `summit_elev` and without `base_elev`and compare the results. </font>**"
   ]
  },
  {
   "cell_type": "markdown",
   "metadata": {
    "colab_type": "text",
    "id": "RXqvcn93Anr7"
   },
   "source": [
    "#### Model 3"
   ]
  },
  {
   "cell_type": "code",
   "execution_count": 65,
   "metadata": {
    "colab": {},
    "colab_type": "code",
    "id": "6eugnDNNAnr8"
   },
   "outputs": [
    {
     "name": "stdout",
     "output_type": "stream",
     "text": [
      "                            Name       state  summit_elev  vertical_drop  \\\n",
      "0               Hilltop Ski Area      Alaska         2090            294   \n",
      "1            Sunrise Park Resort     Arizona        11100           1800   \n",
      "2  Yosemite Ski & Snowboard Area  California         7800            600   \n",
      "3               Donner Ski Ranch  California         8012            750   \n",
      "4                  June Mountain  California        10090           2590   \n",
      "\n",
      "   trams  fastEight  fastSixes  fastQuads  quad  triple  double  surface  \\\n",
      "0      0        0.0          0          0     0       1       0        2   \n",
      "1      0        0.0          0          1     2       3       1        0   \n",
      "2      0        0.0          0          0     0       1       3        1   \n",
      "3      0        0.0          0          0     0       1       5        2   \n",
      "4      0        0.0          0          2     0       0       4        1   \n",
      "\n",
      "   total_chairs  Runs  TerrainParks  LongestRun_mi  SkiableTerrain_ac  \\\n",
      "0             3  13.0           1.0            1.0               30.0   \n",
      "1             7  65.0           2.0            1.2              800.0   \n",
      "2             5  10.0           2.0            0.4               88.0   \n",
      "3             8  52.0           2.0            1.5              505.0   \n",
      "4             7  41.0           2.0            2.0             1500.0   \n",
      "\n",
      "   Snow Making_ac  daysOpenLastYear  yearsOpen  averageSnowfall  AdultWeekday  \\\n",
      "0            30.0             150.0       36.0             69.0     30.000000   \n",
      "1            80.0             115.0       49.0            250.0     74.000000   \n",
      "2           100.0             110.0       84.0            300.0     47.000000   \n",
      "3            60.0             163.0       82.0            400.0     75.000000   \n",
      "4           100.0             128.0       58.0            250.0     57.916957   \n",
      "\n",
      "   AdultWeekend  projectedDaysOpen  NightSkiing_ac  clusters  \n",
      "0      34.00000              152.0            30.0         0  \n",
      "1      78.00000              104.0            80.0         1  \n",
      "2      47.00000              107.0             0.0         1  \n",
      "3      75.00000              170.0             0.0         1  \n",
      "4      64.16681              128.0             0.0         1  \n"
     ]
    }
   ],
   "source": [
    "df3 = pd.read_csv('D:\\\\Springboard\\Technical Project\\\\4_Guided Capstone Project\\\\2_Data Wrangling\\\\data\\\\step3_output.csv', index_col=0)\n",
    "df3.reset_index(inplace=True, drop=True)\n",
    "pd.set_option('display.max_columns', None)\n",
    "print(df3.head())"
   ]
  },
  {
   "cell_type": "code",
   "execution_count": 76,
   "metadata": {},
   "outputs": [
    {
     "data": {
      "text/plain": [
       "array([51.17804414, 61.0918882 , 57.09693602, 44.13623685, 62.91943764,\n",
       "       58.63662385, 63.9585281 , 40.60575057, 61.19545505, 42.82137626,\n",
       "       56.11236177, 55.93919546, 61.78004556, 62.74659037, 49.50565205,\n",
       "       54.01509465, 51.48670273, 67.09486035, 81.23500935, 33.46540318,\n",
       "       56.47737258, 60.48343912, 36.08572958, 92.4875062 , 51.53915622,\n",
       "       44.34964639, 56.06035484, 71.11630241, 33.81440367, 49.11867674,\n",
       "       49.85465196, 35.06138831, 32.25021611, 79.93211244, 59.86173512,\n",
       "       55.5395001 , 69.36987146, 60.27628415, 37.17222951, 76.37798575,\n",
       "       62.64942749])"
      ]
     },
     "execution_count": 76,
     "metadata": {},
     "output_type": "execute_result"
    }
   ],
   "source": [
    "from sklearn import preprocessing\n",
    "\n",
    "X3 = df3.drop(['Name','state', 'summit_elev', 'AdultWeekend'], axis=1)\n",
    "\n",
    "y3 = df3.AdultWeekend \n",
    "\n",
    "scaler3 = preprocessing.StandardScaler().fit(X3)\n",
    "\n",
    "X3_scaled=scaler3.transform(X3)\n",
    "\n",
    "from sklearn.model_selection import train_test_split\n",
    "\n",
    "y3 = y3.ravel()\n",
    "\n",
    "X3_train, X3_test, y3_train, y3_test = train_test_split(X3_scaled, y3, test_size=0.25, random_state=1)\n",
    "\n",
    "#all first model set\n",
    "from sklearn import linear_model\n",
    "from sklearn.metrics import explained_variance_score,mean_absolute_error\n",
    "lm3 = linear_model.LinearRegression()\n",
    "model3 = lm3.fit(X3_train,y3_train)\n",
    "# Make a variable called y_pred and assign it the result of calling predict() on our model variable with parameter X_test\n",
    "y3_pred = lm3.predict(X3_test)\n",
    "y3_pred"
   ]
  },
  {
   "cell_type": "code",
   "execution_count": 77,
   "metadata": {
    "colab": {},
    "colab_type": "code",
    "id": "pq0pW7G9Anr_"
   },
   "outputs": [
    {
     "name": "stdout",
     "output_type": "stream",
     "text": [
      "The R-square value for Linear Regression is:  0.7158086445507734\n",
      "The mean absolute error for Linear Regression is:  6.563927323835275\n"
     ]
    }
   ],
   "source": [
    "r2_3 = explained_variance_score(y3_test, y3_pred)\n",
    "eabs_3 = mean_absolute_error(y3_test, y3_pred)\n",
    "print(\"The R-square value for Linear Regression is: \", r2_3)\n",
    "print(\"The mean absolute error for Linear Regression is: \", eabs_3)"
   ]
  },
  {
   "cell_type": "code",
   "execution_count": 78,
   "metadata": {},
   "outputs": [
    {
     "name": "stdout",
     "output_type": "stream",
     "text": [
      "56.3756567849977\n"
     ]
    }
   ],
   "source": [
    "print(lm3.intercept_)"
   ]
  },
  {
   "cell_type": "code",
   "execution_count": 79,
   "metadata": {
    "colab": {},
    "colab_type": "code",
    "id": "reXlf0HAAnsG"
   },
   "outputs": [
    {
     "name": "stdout",
     "output_type": "stream",
     "text": [
      "                    Coefficient\n",
      "AdultWeekday       1.033435e+01\n",
      "clusters           2.900619e+00\n",
      "daysOpenLastYear   2.895306e+00\n",
      "averageSnowfall    2.300757e+00\n",
      "projectedDaysOpen  2.016763e+00\n",
      "Runs               1.656490e+00\n",
      "SkiableTerrain_ac  1.122799e+00\n",
      "double             1.060182e+00\n",
      "quad               1.057269e+00\n",
      "total_chairs       7.518789e-01\n",
      "NightSkiing_ac     6.007661e-01\n",
      "yearsOpen          4.920739e-01\n",
      "LongestRun_mi      4.859806e-01\n",
      "vertical_drop      4.068232e-01\n",
      "surface            3.813383e-01\n",
      "triple             3.136125e-01\n",
      "Snow Making_ac     3.094195e-01\n",
      "TerrainParks       2.550518e-01\n",
      "fastQuads          2.345597e-01\n",
      "trams              1.776357e-15\n",
      "fastEight          4.440892e-16\n",
      "fastSixes          1.110223e-16\n"
     ]
    }
   ],
   "source": [
    "coeff_3 = pd.DataFrame(abs(lm3.coef_), X3.columns, columns=['Coefficient'])\n",
    "print(coeff_3.sort_values('Coefficient', ascending=False))"
   ]
  },
  {
   "cell_type": "markdown",
   "metadata": {
    "colab_type": "text",
    "id": "MJvQMns6AnsI"
   },
   "source": [
    "## Identify the Final Model"
   ]
  },
  {
   "cell_type": "markdown",
   "metadata": {
    "colab_type": "text",
    "id": "LD7-3iLcAnsK"
   },
   "source": [
    "**<font color='teal'> Review the model performances in the table below and choose the best model for proving insights to Big Mountain management about what features are driving ski resort lift ticket prices. Type your choice in the final markdown cell — you will discuss this selection more in the next step of the guided casptone. </font>**"
   ]
  },
  {
   "cell_type": "markdown",
   "metadata": {
    "colab_type": "text",
    "id": "La5S9fRPAnsK"
   },
   "source": [
    "| Model | Explained Variance| Mean Absolute Error|Features Dropped|\n",
    "| --- | --- | --- | --- |\n",
    "| Model 1. | 0. |  |-|\n",
    "| Model 2. | 0.| |'state'|\n",
    "| Model 3. | 0. | |'state','summit_elev','base_elev'|"
   ]
  },
  {
   "cell_type": "markdown",
   "metadata": {
    "colab_type": "text",
    "id": "T2c-zn7TAnsL"
   },
   "source": [
    "Model Selection:"
   ]
  },
  {
   "cell_type": "code",
   "execution_count": 81,
   "metadata": {
    "colab": {},
    "colab_type": "code",
    "id": "CgC0eMBrAnsM"
   },
   "outputs": [
    {
     "name": "stdout",
     "output_type": "stream",
     "text": [
      "     Model  Explained Variance  Mean Absolute Error    Features Dropped\n",
      "0  Model 1            0.703582             6.786327                   -\n",
      "1  Model 2            0.731244             6.446868               state\n",
      "2  Model 3            0.715809             6.563927  state, summit_elev\n"
     ]
    }
   ],
   "source": [
    "model_selection = pd.DataFrame({'Model':['Model 1', 'Model 2', 'Model 3'], 'Explained Variance':[r2, r2_2, r2_3], 'Mean Absolute Error':[eabs, eabs_2, eabs_3], 'Features Dropped':['-', 'state', 'state, summit_elev']})\n",
    "print(model_selection)"
   ]
  },
  {
   "cell_type": "markdown",
   "metadata": {},
   "source": [
    "The model 2 is having largest R-square value and lowest mean absolute error. Though it contains a feature summit_elev which the Big Mountain managemant cannot change but still the price of ticket is affected by this variable and the same will be used to predict the price, even though it is constant."
   ]
  }
 ],
 "metadata": {
  "colab": {
   "collapsed_sections": [
    "RtEspslPZyGY",
    "s0DokMkAZyGc",
    "2iuitnKcZyHS",
    "iAWQxougZyHW",
    "ThMTimlBZyHZ",
    "QwZ-LkjXZyHt",
    "srtXEA3N4-Y9",
    "ChVreJupZyIA",
    "zDgSSsq1ZyID",
    "I3GYKWfi5Llg",
    "pmMvrhbI-viE",
    "ZXDPkW3UZyIX",
    "Dnc_vHQLZyId",
    "daJxuJ-dZyIg",
    "mAQ-oHiPZyIn",
    "hnGOsp3mZyIp"
   ],
   "name": "GuidedCapstoneStep5.ipynb",
   "provenance": []
  },
  "kernelspec": {
   "display_name": "Python 3",
   "language": "python",
   "name": "python3"
  },
  "language_info": {
   "codemirror_mode": {
    "name": "ipython",
    "version": 3
   },
   "file_extension": ".py",
   "mimetype": "text/x-python",
   "name": "python",
   "nbconvert_exporter": "python",
   "pygments_lexer": "ipython3",
   "version": "3.7.6"
  },
  "toc": {
   "base_numbering": "0",
   "nav_menu": {},
   "number_sections": true,
   "sideBar": true,
   "skip_h1_title": false,
   "title_cell": "Table of Contents",
   "title_sidebar": "Contents",
   "toc_cell": true,
   "toc_position": {
    "height": "calc(100% - 180px)",
    "left": "10px",
    "top": "150px",
    "width": "288px"
   },
   "toc_section_display": true,
   "toc_window_display": true
  }
 },
 "nbformat": 4,
 "nbformat_minor": 1
}
