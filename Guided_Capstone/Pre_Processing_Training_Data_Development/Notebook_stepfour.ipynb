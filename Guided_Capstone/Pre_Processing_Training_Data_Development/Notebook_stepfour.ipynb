{
 "cells": [
  {
   "cell_type": "markdown",
   "metadata": {
    "colab_type": "text",
    "id": "cf5CmXQCZyF1"
   },
   "source": [
    "# Guided Capstone Step 4. Pre-Processing and Training Data Development"
   ]
  },
  {
   "cell_type": "markdown",
   "metadata": {
    "colab_type": "text",
    "id": "b2jue2jPGJlt"
   },
   "source": [
    "**The Data Science Method**  \n",
    "\n",
    "\n",
    "1.   Problem Identification \n",
    "\n",
    "\n",
    "2.   Data Wrangling \n",
    "  \n",
    " \n",
    "3.   Exploratory Data Analysis   \n",
    "\n",
    "4.   **Pre-processing and Training Data Development**  \n",
    " * Create dummy or indicator features for categorical variables\n",
    "  * Standardize the magnitude of numeric features\n",
    "  * Split into testing and training datasets\n",
    "  * Apply scaler to the testing set\n",
    "5.   Modeling \n",
    "  * Fit Models with Training Data Set\n",
    "  * Review Model Outcomes — Iterate over additional models as needed.\n",
    "  * Identify the Final Model\n",
    "\n",
    "6.   Documentation\n",
    "  * Review the Results\n",
    "  * Present and share your findings - storytelling\n",
    "  * Finalize Code \n",
    "  * Finalize Documentation"
   ]
  },
  {
   "cell_type": "markdown",
   "metadata": {
    "colab_type": "text",
    "id": "K8xfkAqqZyF2"
   },
   "source": [
    "**<font color='teal'> Start by loading the necessary packages as we did in step 3 and printing out our current working directory just to confirm we are in the correct project directory. </font>**"
   ]
  },
  {
   "cell_type": "code",
   "execution_count": 2,
   "metadata": {
    "colab": {},
    "colab_type": "code",
    "id": "ry6WPL5eZyF3"
   },
   "outputs": [
    {
     "data": {
      "text/plain": [
       "'D:\\\\Springboard\\\\Technical Project\\\\4_Guided Capstone Project\\\\4_Pre-Processing and Training Data'"
      ]
     },
     "execution_count": 2,
     "metadata": {},
     "output_type": "execute_result"
    }
   ],
   "source": [
    "import os\n",
    "import numpy as np\n",
    "import pandas as pd\n",
    "import matplotlib.pyplot as plt\n",
    "import seaborn as sns\n",
    "%matplotlib inline\n",
    "\n",
    "os.getcwd()"
   ]
  },
  {
   "cell_type": "markdown",
   "metadata": {
    "colab_type": "text",
    "id": "630T-ogRZyF8"
   },
   "source": [
    "**<font color='teal'>  Load the csv file you created in step 3, remember it should be saved inside your data subfolder and print the first five rows.</font>**"
   ]
  },
  {
   "cell_type": "code",
   "execution_count": 20,
   "metadata": {
    "colab": {},
    "colab_type": "code",
    "id": "dMNbk0u3ZyF9"
   },
   "outputs": [
    {
     "name": "stdout",
     "output_type": "stream",
     "text": [
      "                            Name       state  summit_elev  vertical_drop  \\\n",
      "0               Hilltop Ski Area      Alaska         2090            294   \n",
      "1            Sunrise Park Resort     Arizona        11100           1800   \n",
      "2  Yosemite Ski & Snowboard Area  California         7800            600   \n",
      "3               Donner Ski Ranch  California         8012            750   \n",
      "4                  June Mountain  California        10090           2590   \n",
      "\n",
      "   trams  fastEight  fastSixes  fastQuads  quad  triple  double  surface  \\\n",
      "0      0        0.0          0          0     0       1       0        2   \n",
      "1      0        0.0          0          1     2       3       1        0   \n",
      "2      0        0.0          0          0     0       1       3        1   \n",
      "3      0        0.0          0          0     0       1       5        2   \n",
      "4      0        0.0          0          2     0       0       4        1   \n",
      "\n",
      "   total_chairs  Runs  TerrainParks  LongestRun_mi  SkiableTerrain_ac  \\\n",
      "0             3  13.0           1.0            1.0               30.0   \n",
      "1             7  65.0           2.0            1.2              800.0   \n",
      "2             5  10.0           2.0            0.4               88.0   \n",
      "3             8  52.0           2.0            1.5              505.0   \n",
      "4             7  41.0           2.0            2.0             1500.0   \n",
      "\n",
      "   Snow Making_ac  daysOpenLastYear  yearsOpen  averageSnowfall  AdultWeekday  \\\n",
      "0            30.0             150.0       36.0             69.0     30.000000   \n",
      "1            80.0             115.0       49.0            250.0     74.000000   \n",
      "2           100.0             110.0       84.0            300.0     47.000000   \n",
      "3            60.0             163.0       82.0            400.0     75.000000   \n",
      "4           100.0             128.0       58.0            250.0     57.916957   \n",
      "\n",
      "   AdultWeekend  projectedDaysOpen  NightSkiing_ac  clusters  \n",
      "0      34.00000              152.0            30.0         0  \n",
      "1      78.00000              104.0            80.0         1  \n",
      "2      47.00000              107.0             0.0         1  \n",
      "3      75.00000              170.0             0.0         1  \n",
      "4      64.16681              128.0             0.0         1  \n"
     ]
    }
   ],
   "source": [
    "df = pd.read_csv('D:\\\\Springboard\\Technical Project\\\\4_Guided Capstone Project\\\\2_Data Wrangling\\\\data\\\\step3_output.csv', index_col=0)\n",
    "df.reset_index(inplace=True, drop=True)\n",
    "pd.set_option('display.max_columns', None)\n",
    "print(df.head())"
   ]
  },
  {
   "cell_type": "markdown",
   "metadata": {
    "colab_type": "text",
    "id": "zkBHf9smZyGB"
   },
   "source": [
    "## Create dummy features for categorical variables"
   ]
  },
  {
   "cell_type": "markdown",
   "metadata": {
    "colab_type": "text",
    "id": "vWKHm0NhAnrJ"
   },
   "source": [
    "**<font color='teal'> Create dummy variables for `state`. Add the dummies back to the dataframe and remove the original column for `state`. </font>**\n",
    "\n",
    "Hint: you can see an example of how to execute this in Aiden's article on preprocessing [here](https://medium.com/@aiden.dataminer/the-data-science-method-dsm-pre-processing-and-training-data-development-fd2d75182967). "
   ]
  },
  {
   "cell_type": "code",
   "execution_count": 21,
   "metadata": {
    "colab": {},
    "colab_type": "code",
    "id": "lZqWk8ltZyGZ"
   },
   "outputs": [
    {
     "name": "stdout",
     "output_type": "stream",
     "text": [
      "<class 'pandas.core.frame.DataFrame'>\n",
      "RangeIndex: 164 entries, 0 to 163\n",
      "Data columns (total 60 columns):\n",
      " #   Column             Non-Null Count  Dtype  \n",
      "---  ------             --------------  -----  \n",
      " 0   Name               164 non-null    object \n",
      " 1   summit_elev        164 non-null    int64  \n",
      " 2   vertical_drop      164 non-null    int64  \n",
      " 3   trams              164 non-null    int64  \n",
      " 4   fastEight          164 non-null    float64\n",
      " 5   fastSixes          164 non-null    int64  \n",
      " 6   fastQuads          164 non-null    int64  \n",
      " 7   quad               164 non-null    int64  \n",
      " 8   triple             164 non-null    int64  \n",
      " 9   double             164 non-null    int64  \n",
      " 10  surface            164 non-null    int64  \n",
      " 11  total_chairs       164 non-null    int64  \n",
      " 12  Runs               164 non-null    float64\n",
      " 13  TerrainParks       164 non-null    float64\n",
      " 14  LongestRun_mi      164 non-null    float64\n",
      " 15  SkiableTerrain_ac  164 non-null    float64\n",
      " 16  Snow Making_ac     164 non-null    float64\n",
      " 17  daysOpenLastYear   164 non-null    float64\n",
      " 18  yearsOpen          164 non-null    float64\n",
      " 19  averageSnowfall    164 non-null    float64\n",
      " 20  AdultWeekday       164 non-null    float64\n",
      " 21  AdultWeekend       164 non-null    float64\n",
      " 22  projectedDaysOpen  164 non-null    float64\n",
      " 23  NightSkiing_ac     164 non-null    float64\n",
      " 24  clusters           164 non-null    int64  \n",
      " 25  Alaska             164 non-null    uint8  \n",
      " 26  Arizona            164 non-null    uint8  \n",
      " 27  California         164 non-null    uint8  \n",
      " 28  Colorado           164 non-null    uint8  \n",
      " 29  Connecticut        164 non-null    uint8  \n",
      " 30  Idaho              164 non-null    uint8  \n",
      " 31  Illinois           164 non-null    uint8  \n",
      " 32  Indiana            164 non-null    uint8  \n",
      " 33  Iowa               164 non-null    uint8  \n",
      " 34  Maine              164 non-null    uint8  \n",
      " 35  Maryland           164 non-null    uint8  \n",
      " 36  Massachusetts      164 non-null    uint8  \n",
      " 37  Michigan           164 non-null    uint8  \n",
      " 38  Minnesota          164 non-null    uint8  \n",
      " 39  Missouri           164 non-null    uint8  \n",
      " 40  Montana            164 non-null    uint8  \n",
      " 41  Nevada             164 non-null    uint8  \n",
      " 42  New Hampshire      164 non-null    uint8  \n",
      " 43  New Jersey         164 non-null    uint8  \n",
      " 44  New Mexico         164 non-null    uint8  \n",
      " 45  New York           164 non-null    uint8  \n",
      " 46  North Carolina     164 non-null    uint8  \n",
      " 47  Ohio               164 non-null    uint8  \n",
      " 48  Oregon             164 non-null    uint8  \n",
      " 49  Pennsylvania       164 non-null    uint8  \n",
      " 50  Rhode Island       164 non-null    uint8  \n",
      " 51  South Dakota       164 non-null    uint8  \n",
      " 52  Tennessee          164 non-null    uint8  \n",
      " 53  Utah               164 non-null    uint8  \n",
      " 54  Vermont            164 non-null    uint8  \n",
      " 55  Virginia           164 non-null    uint8  \n",
      " 56  Washington         164 non-null    uint8  \n",
      " 57  West Virginia      164 non-null    uint8  \n",
      " 58  Wisconsin          164 non-null    uint8  \n",
      " 59  Wyoming            164 non-null    uint8  \n",
      "dtypes: float64(13), int64(11), object(1), uint8(35)\n",
      "memory usage: 37.8+ KB\n",
      "                            Name  summit_elev  vertical_drop  trams  \\\n",
      "0               Hilltop Ski Area         2090            294      0   \n",
      "1            Sunrise Park Resort        11100           1800      0   \n",
      "2  Yosemite Ski & Snowboard Area         7800            600      0   \n",
      "3               Donner Ski Ranch         8012            750      0   \n",
      "4                  June Mountain        10090           2590      0   \n",
      "\n",
      "   fastEight  fastSixes  fastQuads  quad  triple  double  surface  \\\n",
      "0        0.0          0          0     0       1       0        2   \n",
      "1        0.0          0          1     2       3       1        0   \n",
      "2        0.0          0          0     0       1       3        1   \n",
      "3        0.0          0          0     0       1       5        2   \n",
      "4        0.0          0          2     0       0       4        1   \n",
      "\n",
      "   total_chairs  Runs  TerrainParks  LongestRun_mi  SkiableTerrain_ac  \\\n",
      "0             3  13.0           1.0            1.0               30.0   \n",
      "1             7  65.0           2.0            1.2              800.0   \n",
      "2             5  10.0           2.0            0.4               88.0   \n",
      "3             8  52.0           2.0            1.5              505.0   \n",
      "4             7  41.0           2.0            2.0             1500.0   \n",
      "\n",
      "   Snow Making_ac  daysOpenLastYear  yearsOpen  averageSnowfall  AdultWeekday  \\\n",
      "0            30.0             150.0       36.0             69.0     30.000000   \n",
      "1            80.0             115.0       49.0            250.0     74.000000   \n",
      "2           100.0             110.0       84.0            300.0     47.000000   \n",
      "3            60.0             163.0       82.0            400.0     75.000000   \n",
      "4           100.0             128.0       58.0            250.0     57.916957   \n",
      "\n",
      "   AdultWeekend  projectedDaysOpen  NightSkiing_ac  clusters  Alaska  Arizona  \\\n",
      "0      34.00000              152.0            30.0         0       1        0   \n",
      "1      78.00000              104.0            80.0         1       0        1   \n",
      "2      47.00000              107.0             0.0         1       0        0   \n",
      "3      75.00000              170.0             0.0         1       0        0   \n",
      "4      64.16681              128.0             0.0         1       0        0   \n",
      "\n",
      "   California  Colorado  Connecticut  Idaho  Illinois  Indiana  Iowa  Maine  \\\n",
      "0           0         0            0      0         0        0     0      0   \n",
      "1           0         0            0      0         0        0     0      0   \n",
      "2           1         0            0      0         0        0     0      0   \n",
      "3           1         0            0      0         0        0     0      0   \n",
      "4           1         0            0      0         0        0     0      0   \n",
      "\n",
      "   Maryland  Massachusetts  Michigan  Minnesota  Missouri  Montana  Nevada  \\\n",
      "0         0              0         0          0         0        0       0   \n",
      "1         0              0         0          0         0        0       0   \n",
      "2         0              0         0          0         0        0       0   \n",
      "3         0              0         0          0         0        0       0   \n",
      "4         0              0         0          0         0        0       0   \n",
      "\n",
      "   New Hampshire  New Jersey  New Mexico  New York  North Carolina  Ohio  \\\n",
      "0              0           0           0         0               0     0   \n",
      "1              0           0           0         0               0     0   \n",
      "2              0           0           0         0               0     0   \n",
      "3              0           0           0         0               0     0   \n",
      "4              0           0           0         0               0     0   \n",
      "\n",
      "   Oregon  Pennsylvania  Rhode Island  South Dakota  Tennessee  Utah  Vermont  \\\n",
      "0       0             0             0             0          0     0        0   \n",
      "1       0             0             0             0          0     0        0   \n",
      "2       0             0             0             0          0     0        0   \n",
      "3       0             0             0             0          0     0        0   \n",
      "4       0             0             0             0          0     0        0   \n",
      "\n",
      "   Virginia  Washington  West Virginia  Wisconsin  Wyoming  \n",
      "0         0           0              0          0        0  \n",
      "1         0           0              0          0        0  \n",
      "2         0           0              0          0        0  \n",
      "3         0           0              0          0        0  \n",
      "4         0           0              0          0        0  \n"
     ]
    }
   ],
   "source": [
    "df =pd.concat([df.drop('state', axis=1), pd.get_dummies(df.state)], axis=1)\n",
    "df.info()\n",
    "print(df.head())"
   ]
  },
  {
   "cell_type": "markdown",
   "metadata": {
    "colab_type": "text",
    "id": "HnDVhE1-ZyGF"
   },
   "source": [
    "## Standardize the magnitude of numeric features"
   ]
  },
  {
   "cell_type": "markdown",
   "metadata": {
    "colab": {},
    "colab_type": "code",
    "id": "gW3D-WlDZyGG"
   },
   "source": [
    "**<font color='teal'> Using sklearn preprocessing standardize the scale of the features of the dataframe except the name of the resort which we done't need in the dataframe for modeling, so it can be droppped here as well. Also, we want to hold out our response variable(s) so we can have their true values available for model performance review. Let's set `AdultWeekend` to the y variable as our response for scaling and modeling. Later we will go back and consider the `AdultWeekday`, `dayOpenLastYear`, and `projectedDaysOpen`. For now leave them in the development dataframe. </font>**"
   ]
  },
  {
   "cell_type": "code",
   "execution_count": 23,
   "metadata": {
    "colab": {},
    "colab_type": "code",
    "id": "IZL-q-KtAYI6"
   },
   "outputs": [],
   "source": [
    "# first we import the preprocessing package from the sklearn library\n",
    "from sklearn import preprocessing\n",
    "\n",
    "# Declare an explanatory variable, called X,and assign it the result of dropping 'Name' and 'AdultWeekend' from the df\n",
    "X = df.drop(['Name','AdultWeekend'], axis=1)\n",
    "\n",
    "# Declare a response variable, called y, and assign it the AdultWeekend column of the df \n",
    "y = df.AdultWeekend \n",
    "\n",
    "# Here we use the StandardScaler() method of the preprocessing package, and then call the fit() method with parameter X \n",
    "scaler = preprocessing.StandardScaler().fit(X)\n",
    "\n",
    "# Declare a variable called X_scaled, and assign it the result of calling the transform() method with parameter X \n",
    "X_scaled=scaler.transform(X)"
   ]
  },
  {
   "cell_type": "markdown",
   "metadata": {
    "colab_type": "text",
    "id": "GAT8h4_mZyGK"
   },
   "source": [
    "## Split into training and testing datasets"
   ]
  },
  {
   "cell_type": "markdown",
   "metadata": {
    "colab_type": "text",
    "id": "6rdS8EGeAnrW"
   },
   "source": [
    "**<font color='teal'> Using sklearn model selection import train_test_split, and create a 75/25 split with the y = `AdultWeekend`. We will start by using the adult weekend ticket price as our response variable for modeling.</font>**"
   ]
  },
  {
   "cell_type": "code",
   "execution_count": 24,
   "metadata": {
    "colab": {},
    "colab_type": "code",
    "id": "BSkPut0gguds"
   },
   "outputs": [],
   "source": [
    "# Import the train_test_split function from the sklearn.model_selection utility.  \n",
    "from sklearn.model_selection import train_test_split\n",
    "\n",
    "# Get the 1-dimensional flattened array of our response variable y by calling the ravel() function on y\n",
    "y = y.ravel()\n",
    "\n",
    "# Call the train_test_split() function with the first two parameters set to X_scaled and y \n",
    "# Declare four variables, X_train, X_test, y_train and y_test separated by commas \n",
    "X_train, X_test, y_train, y_test = train_test_split(X_scaled, y, test_size=0.25, random_state=1)"
   ]
  },
  {
   "cell_type": "markdown",
   "metadata": {
    "colab_type": "text",
    "id": "UayqbwkWAnra"
   },
   "source": [
    "Here we start the actual modeling work. First let's fit a multiple linear regression model to predict the `AdultWeekend` price."
   ]
  },
  {
   "cell_type": "markdown",
   "metadata": {
    "colab_type": "text",
    "id": "83fkLldXFCNd"
   },
   "source": [
    "# Guided Capstone Step 5. Modeling\n"
   ]
  },
  {
   "cell_type": "markdown",
   "metadata": {
    "colab_type": "text",
    "id": "JbZXsVevfr9M"
   },
   "source": [
    "This is the fifth step in the Data Science Method. In the previous steps you cleaned and prepared the datasets. Now it's time to get into the most exciting part: modeling! In this exercise, you'll build three different models and compare each model's performance. In the end, you'll choose the best model for demonstrating insights to Big Mountain management.\n",
    "\n",
    "\n",
    "\n",
    "### **The Data Science Method**  \n",
    "\n",
    "\n",
    "1.   Problem Identification \n",
    "\n",
    "2.   Data Wrangling \n",
    "  \n",
    "3.   Exploratory Data Analysis \n",
    " \n",
    "4.   Pre-processing and Training Data Development\n",
    "\n",
    "5.   **Modeling**\n",
    "  * Fit Models with Training Data Set\n",
    "  * Review Model Outcomes — Iterate over additional models as needed.\n",
    "  * Identify the Final Model\n",
    "\n",
    "6.   Documentation\n",
    "  * Review the Results\n",
    "  * Present and share your findings - storytelling\n",
    "  * Finalize Code \n",
    "  * Finalize Documentation"
   ]
  },
  {
   "cell_type": "markdown",
   "metadata": {
    "colab_type": "text",
    "id": "D_wfsP_-Anra"
   },
   "source": [
    "## Fit Models with a Training Dataset"
   ]
  },
  {
   "cell_type": "markdown",
   "metadata": {
    "colab_type": "text",
    "id": "CoI8S5SwAnrc"
   },
   "source": [
    "**<font color='teal'> Using sklearn, fit the model on your training dataset.</font>**"
   ]
  },
  {
   "cell_type": "markdown",
   "metadata": {
    "colab_type": "text",
    "id": "P_GFr8sRAnrd"
   },
   "source": [
    "#### Model 1"
   ]
  },
  {
   "cell_type": "code",
   "execution_count": 0,
   "metadata": {
    "colab": {},
    "colab_type": "code",
    "id": "fW6K7uOPAnre"
   },
   "outputs": [],
   "source": [
    "#all first model set\n",
    "#from sklearn import linear_model\n",
    "#from sklearn.metrics import explained_variance_score,mean_absolute_error\n",
    "#lm = linear_model.LinearRegression()\n",
    "#model = lm.fit(X_train,y_train)"
   ]
  },
  {
   "cell_type": "markdown",
   "metadata": {
    "colab_type": "text",
    "id": "1fHqz9-WAnrg"
   },
   "source": [
    "**<font color='teal'> Predict on the testing dataset and score the model performance with the y_test set and the y-pred values. The explained variance is a measure of the variation explained by the model. This is also known as the R-squared value. </font>**\n",
    "\n",
    "Hint: you will have to use the `predict()` method here as it's used in this [DSM article](https://medium.com/@aiden.dataminer/the-data-science-method-dsm-modeling-56b4233cad1b) about modeling. "
   ]
  },
  {
   "cell_type": "code",
   "execution_count": 0,
   "metadata": {
    "colab": {},
    "colab_type": "code",
    "id": "nIo01lFEAnrh"
   },
   "outputs": [],
   "source": [
    "# Make a variable called y_pred and assign it the result of calling predict() on our model variable with parameter X_test"
   ]
  },
  {
   "cell_type": "markdown",
   "metadata": {
    "colab_type": "text",
    "id": "N4YS0WE2Anrk"
   },
   "source": [
    "## Review Model Outcomes — Iterate over additional models as needed"
   ]
  },
  {
   "cell_type": "code",
   "execution_count": 0,
   "metadata": {
    "colab": {},
    "colab_type": "code",
    "id": "HSh9sGIYAnrk"
   },
   "outputs": [],
   "source": [
    "# You might want to use the explained_variance_score() and mean_absolute_error() metrics.\n",
    "# To do so, you will need to import them from sklearn.metrics. \n",
    "# You can plug y_test and y_pred into the functions to evaluate the model"
   ]
  },
  {
   "cell_type": "code",
   "execution_count": 0,
   "metadata": {
    "colab": {},
    "colab_type": "code",
    "id": "ihzeo8tqAnro"
   },
   "outputs": [],
   "source": []
  },
  {
   "cell_type": "markdown",
   "metadata": {
    "colab_type": "text",
    "id": "NWJcOuSdAnrr"
   },
   "source": [
    "**<font color='teal'> Print the intercept value from the linear model. </font>**\n",
    "\n",
    "Hint: our linear regression model `lm` has an attribute `intercept_` for the intercept"
   ]
  },
  {
   "cell_type": "code",
   "execution_count": 0,
   "metadata": {
    "colab": {},
    "colab_type": "code",
    "id": "3WzWejn6Anrt"
   },
   "outputs": [],
   "source": []
  },
  {
   "cell_type": "markdown",
   "metadata": {
    "colab_type": "text",
    "id": "edajrenAAnrv"
   },
   "source": [
    "**<font color='teal'> The intercept is the mean `AdultWeekend` price for all the resorts given the other characteristics. The addition or subtraction of each of the coefficient values in the regression are numeric adjustments applied to the intercept to provide a particular observation's value for the resulting `AdultWeekend` value. Also, because we took the time to scale our x values in the training data, we can compare each of the coeeficients for the features to determine the feature importances. Print the coefficient values from the linear model and sort in descending order to identify the top ten most important features.</font>** \n",
    "\n",
    "\n",
    "Hint: make sure to review the absolute value of the coefficients, because the adjustment may be positive or negative, but what we are looking for is the magnitude of impact on our response variable."
   ]
  },
  {
   "cell_type": "code",
   "execution_count": 0,
   "metadata": {
    "colab": {},
    "colab_type": "code",
    "id": "FEKc_lmZAnrw"
   },
   "outputs": [],
   "source": [
    "# You might want to make a pandas DataFrame displaying the coefficients for each state like so: \n",
    "# pd.DataFrame(abs(lm.coef_), X.columns, columns=['Coefficient'])\n"
   ]
  },
  {
   "cell_type": "markdown",
   "metadata": {
    "colab_type": "text",
    "id": "BpdALMoAAnry"
   },
   "source": [
    "**<font color='teal'>You should see that the top ten important features are different states. However, the state is not something the managers at the Big Mountain Resort can do anything about. Given that we care more about actionable traits associated with ticket pricing, rebuild the model without the state features and compare the results. </font>**\n",
    "\n",
    "Hint: Try to construct another model using exactly the steps we followed above. "
   ]
  },
  {
   "cell_type": "markdown",
   "metadata": {
    "colab_type": "text",
    "id": "-mHYA1BzAnrz"
   },
   "source": [
    "#### Model 2"
   ]
  },
  {
   "cell_type": "code",
   "execution_count": 0,
   "metadata": {
    "colab": {},
    "colab_type": "code",
    "id": "Pz1YXAdiAnr0"
   },
   "outputs": [],
   "source": []
  },
  {
   "cell_type": "code",
   "execution_count": 0,
   "metadata": {
    "colab": {},
    "colab_type": "code",
    "id": "nM1EGf16Anr2"
   },
   "outputs": [],
   "source": []
  },
  {
   "cell_type": "markdown",
   "metadata": {
    "colab_type": "text",
    "id": "JWjQLr3LAnr6"
   },
   "source": [
    "**<font color='teal'> When reviewing our new model coefficients, we see `summit_elev` is now in the number two spot. This is also difficult to change from a management prespective and highly correlated with `base_elev` and `vertical_drop`.  This time, rebuild the model without the state features and without the `summit_elev` and without `base_elev`and compare the results. </font>**"
   ]
  },
  {
   "cell_type": "markdown",
   "metadata": {
    "colab_type": "text",
    "id": "RXqvcn93Anr7"
   },
   "source": [
    "#### Model 3"
   ]
  },
  {
   "cell_type": "code",
   "execution_count": 0,
   "metadata": {
    "colab": {},
    "colab_type": "code",
    "id": "6eugnDNNAnr8"
   },
   "outputs": [],
   "source": []
  },
  {
   "cell_type": "code",
   "execution_count": 0,
   "metadata": {
    "colab": {},
    "colab_type": "code",
    "id": "pq0pW7G9Anr_"
   },
   "outputs": [],
   "source": []
  },
  {
   "cell_type": "code",
   "execution_count": 0,
   "metadata": {
    "colab": {},
    "colab_type": "code",
    "id": "reXlf0HAAnsG"
   },
   "outputs": [],
   "source": []
  },
  {
   "cell_type": "markdown",
   "metadata": {
    "colab_type": "text",
    "id": "MJvQMns6AnsI"
   },
   "source": [
    "## Identify the Final Model"
   ]
  },
  {
   "cell_type": "markdown",
   "metadata": {
    "colab_type": "text",
    "id": "LD7-3iLcAnsK"
   },
   "source": [
    "**<font color='teal'> Review the model performances in the table below and choose the best model for proving insights to Big Mountain management about what features are driving ski resort lift ticket prices. Type your choice in the final markdown cell — you will discuss this selection more in the next step of the guided casptone. </font>**"
   ]
  },
  {
   "cell_type": "markdown",
   "metadata": {
    "colab_type": "text",
    "id": "La5S9fRPAnsK"
   },
   "source": [
    "| Model | Explained Variance| Mean Absolute Error|Features Dropped|\n",
    "| --- | --- | --- | --- |\n",
    "| Model 1. | 0. |  |-|\n",
    "| Model 2. | 0.| |'state'|\n",
    "| Model 3. | 0. | |'state','summit_elev','base_elev'|"
   ]
  },
  {
   "cell_type": "markdown",
   "metadata": {
    "colab_type": "text",
    "id": "T2c-zn7TAnsL"
   },
   "source": [
    "Model Selection:"
   ]
  },
  {
   "cell_type": "code",
   "execution_count": 0,
   "metadata": {
    "colab": {},
    "colab_type": "code",
    "id": "CgC0eMBrAnsM"
   },
   "outputs": [],
   "source": []
  }
 ],
 "metadata": {
  "colab": {
   "collapsed_sections": [
    "RtEspslPZyGY",
    "s0DokMkAZyGc",
    "2iuitnKcZyHS",
    "iAWQxougZyHW",
    "ThMTimlBZyHZ",
    "QwZ-LkjXZyHt",
    "srtXEA3N4-Y9",
    "ChVreJupZyIA",
    "zDgSSsq1ZyID",
    "I3GYKWfi5Llg",
    "pmMvrhbI-viE",
    "ZXDPkW3UZyIX",
    "Dnc_vHQLZyId",
    "daJxuJ-dZyIg",
    "mAQ-oHiPZyIn",
    "hnGOsp3mZyIp"
   ],
   "name": "GuidedCapstoneStep5.ipynb",
   "provenance": []
  },
  "kernelspec": {
   "display_name": "Python 3",
   "language": "python",
   "name": "python3"
  },
  "language_info": {
   "codemirror_mode": {
    "name": "ipython",
    "version": 3
   },
   "file_extension": ".py",
   "mimetype": "text/x-python",
   "name": "python",
   "nbconvert_exporter": "python",
   "pygments_lexer": "ipython3",
   "version": "3.7.6"
  },
  "toc": {
   "base_numbering": "0",
   "nav_menu": {},
   "number_sections": true,
   "sideBar": true,
   "skip_h1_title": false,
   "title_cell": "Table of Contents",
   "title_sidebar": "Contents",
   "toc_cell": true,
   "toc_position": {
    "height": "calc(100% - 180px)",
    "left": "10px",
    "top": "150px",
    "width": "288px"
   },
   "toc_section_display": true,
   "toc_window_display": true
  }
 },
 "nbformat": 4,
 "nbformat_minor": 1
}
