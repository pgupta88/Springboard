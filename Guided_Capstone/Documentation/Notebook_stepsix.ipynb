{
 "cells": [
  {
   "cell_type": "markdown",
   "metadata": {
    "colab_type": "text",
    "id": "cf5CmXQCZyF1"
   },
   "source": [
    "# Guided Capstone Step 6. Documentation"
   ]
  },
  {
   "cell_type": "markdown",
   "metadata": {
    "colab_type": "text",
    "id": "JbZXsVevfr9M"
   },
   "source": [
    "**The Data Science Method**  \n",
    "\n",
    "\n",
    "1.   Problem Identification \n",
    "\n",
    "2.   Data Wrangling \n",
    "  \n",
    "3.   Exploratory Data Analysis \n",
    " \n",
    "4.   Pre-processing and Training Data Development\n",
    "\n",
    "5.  Modeling\n",
    "\n",
    "6.   **Documentation**\n",
    "  * Review the Results\n",
    "  * Finalize Code \n",
    "  * Finalize Documentation\n",
    "  * Create a Project Report \n",
    "  * Create a Slide Deck for the Executive Audience"
   ]
  },
  {
   "cell_type": "markdown",
   "metadata": {
    "colab_type": "text",
    "id": "D-oGciwnGUYk"
   },
   "source": [
    "In this guided capstone we are going to revisit many of the actions we took in the previous guided capstone steps. This gives you the opportunity to practice the code you wrote to solve the questions in step 4 and 5. "
   ]
  },
  {
   "cell_type": "markdown",
   "metadata": {
    "colab_type": "text",
    "id": "K8xfkAqqZyF2"
   },
   "source": [
    "**<font color='teal'> Start by loading the necessary packages and printing out our current working directory just to confirm we are in the correct project directory. </font>**"
   ]
  },
  {
   "cell_type": "code",
   "execution_count": 2,
   "metadata": {
    "colab": {},
    "colab_type": "code",
    "id": "ry6WPL5eZyF3"
   },
   "outputs": [
    {
     "data": {
      "text/plain": [
       "'D:\\\\Springboard\\\\Technical Project\\\\4_Guided Capstone Project\\\\6_Documentation'"
      ]
     },
     "execution_count": 2,
     "metadata": {},
     "output_type": "execute_result"
    }
   ],
   "source": [
    "import os\n",
    "import numpy as np\n",
    "import matplotlib.pyplot as plt\n",
    "import pandas as pd\n",
    "import seaborn as sns\n",
    "from sklearn.model_selection import train_test_split\n",
    "from sklearn.metrics import explained_variance_score, mean_absolute_error\n",
    "from sklearn import linear_model\n",
    "from sklearn import preprocessing\n",
    "%matplotlib inline\n",
    "\n",
    "os.getcwd()"
   ]
  },
  {
   "cell_type": "markdown",
   "metadata": {
    "colab_type": "text",
    "id": "0HTP9cF2GUYs"
   },
   "source": [
    "## Fit Models with Training Dataset"
   ]
  },
  {
   "cell_type": "markdown",
   "metadata": {
    "colab_type": "text",
    "id": "A2FmSbtCGUYt"
   },
   "source": [
    "**<font color='teal'> Using sklearn fit the model you chose in Guided Capstone 5 on your training dataset. This includes: creating dummy features for states if you need them, scaling the data,and creating train and test splits before fitting the chosen model.Also, remember to generate a model performance score(MAE, or explained variance) based on the testing hold-out data set.</font>**"
   ]
  },
  {
   "cell_type": "markdown",
   "metadata": {
    "colab_type": "text",
    "id": "ReRSy1yFGUYu"
   },
   "source": [
    "#### Best Model "
   ]
  },
  {
   "cell_type": "code",
   "execution_count": 3,
   "metadata": {
    "colab": {},
    "colab_type": "code",
    "id": "YRhPGbqPGUYv"
   },
   "outputs": [
    {
     "name": "stdout",
     "output_type": "stream",
     "text": [
      "The R-square value for Linear Regression is:  0.7312443670662345\n",
      "The mean absolute error for Linear Regression is:  6.44686769878445\n",
      "                    Coefficient\n",
      "AdultWeekday       1.074045e+01\n",
      "clusters           3.382737e+00\n",
      "daysOpenLastYear   3.338655e+00\n",
      "Runs               1.895608e+00\n",
      "quad               1.358054e+00\n",
      "double             8.939274e-01\n",
      "total_chairs       5.896647e-01\n",
      "NightSkiing_ac     4.351204e-01\n",
      "LongestRun_mi      3.915734e-01\n",
      "vertical_drop      3.786582e-01\n",
      "TerrainParks       3.070557e-01\n",
      "triple             2.945626e-01\n",
      "trams              2.664535e-15\n",
      "fastEight         -4.440892e-16\n",
      "fastSixes         -8.881784e-16\n",
      "SkiableTerrain_ac -2.419213e-02\n",
      "Snow Making_ac    -8.885219e-02\n",
      "fastQuads         -2.139279e-01\n",
      "yearsOpen         -3.646325e-01\n",
      "surface           -6.498532e-01\n",
      "averageSnowfall   -1.637446e+00\n",
      "projectedDaysOpen -2.364513e+00\n",
      "summit_elev       -2.829727e+00\n",
      "[52.62940817 63.09379392 52.73766612 43.76662344 64.05743319 53.80329391\n",
      " 63.39750635 41.34199672 61.73039696 42.44553818 56.07434224 55.85594174\n",
      " 61.70624138 62.75217907 49.46624177 52.97540822 50.20468032 72.11724044\n",
      " 76.28353806 29.83455638 56.71485208 60.41982036 35.66698059 94.35889381\n",
      " 49.02369933 44.93646972 54.8611821  71.41694919 34.97385236 49.85012958\n",
      " 50.27374152 35.57364914 31.63905156 82.41412203 61.02683557 54.65439258\n",
      " 70.64999529 60.30107059 37.09369579 76.47251681 60.9736678 ]\n"
     ]
    }
   ],
   "source": [
    "df2 = pd.read_csv('D:\\\\Springboard\\Technical Project\\\\4_Guided Capstone Project\\\\2_Data Wrangling\\\\data\\\\step3_output.csv', index_col=0)\n",
    "df2.reset_index(inplace=True, drop=True)\n",
    "pd.set_option('display.max_columns', None)\n",
    "\n",
    "X2 = df2.drop(['Name','state', 'AdultWeekend'], axis=1)\n",
    "y2 = df2.AdultWeekend \n",
    "scaler2 = preprocessing.StandardScaler().fit(X2)\n",
    "X2_scaled=scaler2.transform(X2)\n",
    "y2 = y2.ravel()\n",
    "X2_train, X2_test, y2_train, y2_test = train_test_split(X2_scaled, y2, test_size=0.25, random_state=1)\n",
    "\n",
    "lm2 = linear_model.LinearRegression()\n",
    "model2 = lm2.fit(X2_train,y2_train)\n",
    "\n",
    "y2_pred = lm2.predict(X2_test)\n",
    "\n",
    "r2_2 = explained_variance_score(y2_test, y2_pred)\n",
    "eabs_2 = mean_absolute_error(y2_test, y2_pred)\n",
    "\n",
    "print(\"The R-square value for Linear Regression is: \", r2_2)\n",
    "print(\"The mean absolute error for Linear Regression is: \", eabs_2)\n",
    "print(pd.DataFrame((lm2.coef_), X2.columns, columns=['Coefficient']).sort_values('Coefficient', ascending=False))\n",
    "print(y2_pred)"
   ]
  },
  {
   "cell_type": "markdown",
   "metadata": {
    "colab_type": "text",
    "id": "GGizyeLZGUYz"
   },
   "source": [
    "## Review the results "
   ]
  },
  {
   "cell_type": "markdown",
   "metadata": {
    "colab_type": "text",
    "id": "4Lhu-qisGUY0"
   },
   "source": [
    "**<font color='teal'> Now, let's predict the Big Mountain Weekend price with our model in order to provide a recommendation to our managers on how to price the `AdultWeekend` lift ticket. First we need to find the row for Big Mountain resort in our data using string contains or string matching.</font>**"
   ]
  },
  {
   "cell_type": "code",
   "execution_count": 4,
   "metadata": {
    "colab": {},
    "colab_type": "code",
    "id": "YXnx_IuEGUY1"
   },
   "outputs": [
    {
     "name": "stdout",
     "output_type": "stream",
     "text": [
      "Empty DataFrame\n",
      "Columns: [Name, state, summit_elev, vertical_drop, trams, fastEight, fastSixes, fastQuads, quad, triple, double, surface, total_chairs, Runs, TerrainParks, LongestRun_mi, SkiableTerrain_ac, Snow Making_ac, daysOpenLastYear, yearsOpen, averageSnowfall, AdultWeekday, AdultWeekend, projectedDaysOpen, NightSkiing_ac, clusters]\n",
      "Index: []\n"
     ]
    }
   ],
   "source": [
    "big_mount_res = df2[df2['Name'].str.contains('Big Mountain')]\n",
    "print(big_mount_res)"
   ]
  },
  {
   "cell_type": "code",
   "execution_count": 5,
   "metadata": {},
   "outputs": [
    {
     "name": "stdout",
     "output_type": "stream",
     "text": [
      "                    Name   Region    state  summit_elev  vertical_drop  \\\n",
      "151  Big Mountain Resort  Montana  Montana         6817           2353   \n",
      "\n",
      "     base_elev  trams  fastEight  fastSixes  fastQuads  quad  triple  double  \\\n",
      "151       4464      0        0.0          0          3     2       6       0   \n",
      "\n",
      "     surface  total_chairs   Runs  TerrainParks  LongestRun_mi  \\\n",
      "151        3            14  105.0           4.0            3.3   \n",
      "\n",
      "     SkiableTerrain_ac  Snow Making_ac  daysOpenLastYear  yearsOpen  \\\n",
      "151             3000.0           600.0             123.0       72.0   \n",
      "\n",
      "     averageSnowfall  AdultWeekday  AdultWeekend  projectedDaysOpen  \\\n",
      "151            333.0          81.0          81.0              123.0   \n",
      "\n",
      "     NightSkiing_ac  clusters  \n",
      "151           600.0         3  \n"
     ]
    },
    {
     "name": "stderr",
     "output_type": "stream",
     "text": [
      "C:\\Users\\prash\\anaconda3\\lib\\site-packages\\ipykernel_launcher.py:5: SettingWithCopyWarning: \n",
      "A value is trying to be set on a copy of a slice from a DataFrame.\n",
      "Try using .loc[row_indexer,col_indexer] = value instead\n",
      "\n",
      "See the caveats in the documentation: https://pandas.pydata.org/pandas-docs/stable/user_guide/indexing.html#returning-a-view-versus-a-copy\n",
      "  \"\"\"\n"
     ]
    }
   ],
   "source": [
    "#There is no data of big mountain resort because during EDA while removing outliers data of Big Mountain has also been removed.\n",
    "# Let's get the BigMountain data\n",
    "df = pd.read_csv('D:\\\\Springboard\\\\Technical Project\\\\4_Guided Capstone Project\\\\2_Data Wrangling\\\\data\\\\step2_output.csv', index_col=0)\n",
    "big_mount_res = df[df['Name'].str.contains('Big Mountain')]\n",
    "big_mount_res['clusters'] = 3 # As per summit elevation and vertical drop the cluster is 3, hence we have assign it.\n",
    "print(big_mount_res)"
   ]
  },
  {
   "cell_type": "markdown",
   "metadata": {
    "colab_type": "text",
    "id": "83-jO9hPGUY4"
   },
   "source": [
    "**<font color='teal'> Prepare the Big Mountain resort data row as you did in the model fitting stage.</font>**"
   ]
  },
  {
   "cell_type": "code",
   "execution_count": 6,
   "metadata": {
    "colab": {},
    "colab_type": "code",
    "id": "oWH_q9YOGUY5"
   },
   "outputs": [],
   "source": [
    "X = big_mount_res.drop(['Name','state', 'Region', 'AdultWeekend', 'base_elev'], axis=1)\n",
    "y = big_mount_res.AdultWeekend \n",
    "scaler = preprocessing.StandardScaler().fit(X)\n",
    "X_scaled=scaler.transform(X)\n",
    "y = y.ravel()"
   ]
  },
  {
   "cell_type": "markdown",
   "metadata": {
    "colab_type": "text",
    "id": "2BCFqZYBGUY9"
   },
   "source": [
    "**<font color='teal'> Predict the Big Mountain resort `Adult Weekend` price and print it out.</font>** This is our expected price to present to management. Based on our model given the characteristics of the resort in comparison to other ski resorts and their unique characteristics."
   ]
  },
  {
   "cell_type": "code",
   "execution_count": 7,
   "metadata": {
    "colab": {},
    "colab_type": "code",
    "id": "XebWxxTMGUY-"
   },
   "outputs": [
    {
     "name": "stdout",
     "output_type": "stream",
     "text": [
      "The expected price for the Adul Weekend ticket should be around:  [56.33096418]\n"
     ]
    }
   ],
   "source": [
    "y_pred = lm2.predict(X_scaled)\n",
    "print(\"The expected price for the Adul Weekend ticket should be around: \", y_pred)"
   ]
  },
  {
   "cell_type": "markdown",
   "metadata": {
    "colab_type": "text",
    "id": "_5BvguMLGUZB"
   },
   "source": [
    "**<font color='teal'> Print the Big Mountain resort actual `Adult Weekend` price.</font>**"
   ]
  },
  {
   "cell_type": "code",
   "execution_count": 8,
   "metadata": {
    "colab": {},
    "colab_type": "code",
    "id": "WyxTHtL2GUZC"
   },
   "outputs": [
    {
     "name": "stdout",
     "output_type": "stream",
     "text": [
      "The actual price for the Adul Weekend ticket is:  [81.]\n"
     ]
    }
   ],
   "source": [
    "print(\"The actual price for the Adul Weekend ticket is: \", y)"
   ]
  },
  {
   "cell_type": "markdown",
   "metadata": {
    "colab_type": "text",
    "id": "O0Yli8MXGUZH"
   },
   "source": [
    "**<font color='teal'> As part of reviewing the results it is an important step to generate figures to visualize the data story. We can use the clusters we added to our data frame to create scatter plots for visualizing the Adult Weekend values compared to other characteristics. Run the example below to get you started and build two or three more figures to include in your data story telling.</font>**"
   ]
  },
  {
   "cell_type": "code",
   "execution_count": 9,
   "metadata": {
    "colab": {},
    "colab_type": "code",
    "id": "xWtr873fGUZI"
   },
   "outputs": [
    {
     "data": {
      "image/png": "[encoded data removed]",
      "text/plain": [
       "<Figure size 432x288 with 1 Axes>"
      ]
     },
     "metadata": {
      "needs_background": "light"
     },
     "output_type": "display_data"
    }
   ],
   "source": [
    "plt.scatter(df2['summit_elev'], df2['vertical_drop'], c=df2['clusters'], s=50, cmap='viridis', label ='clusters')\n",
    "plt.scatter(big_mount_res['summit_elev'], big_mount_res['vertical_drop'], c='black', s=100)\n",
    "plt.xlabel('summit_elev')\n",
    "plt.ylabel('vertical_drop')\n",
    "plt.title('summit_elev by vertical_drop by cluster')\n",
    "plt.savefig('D:/Springboard/Technical Project/4_Guided Capstone Project/2_Data Wrangling/figures/fig1.png',bbox_inches='tight')"
   ]
  },
  {
   "cell_type": "code",
   "execution_count": 36,
   "metadata": {
    "colab": {},
    "colab_type": "code",
    "id": "530JtuJxGUZL"
   },
   "outputs": [
    {
     "data": {
      "image/png": "[encoded data removed]",
      "text/plain": [
       "<Figure size 432x288 with 1 Axes>"
      ]
     },
     "metadata": {
      "needs_background": "light"
     },
     "output_type": "display_data"
    }
   ],
   "source": [
    "sns.regplot('summit_elev', 'AdultWeekend', data=df2)\n",
    "plt.xlabel('summit_elev')\n",
    "plt.ylabel('Price of ticket at weekend')\n",
    "plt.title('Relationship b/w summit elevation & ticket price')\n",
    "plt.show()"
   ]
  },
  {
   "cell_type": "code",
   "execution_count": 37,
   "metadata": {
    "colab": {},
    "colab_type": "code",
    "id": "kGvf4kTwGUZR"
   },
   "outputs": [
    {
     "data": {
      "image/png": "[encoded data removed]",
      "text/plain": [
       "<Figure size 432x288 with 1 Axes>"
      ]
     },
     "metadata": {
      "needs_background": "light"
     },
     "output_type": "display_data"
    }
   ],
   "source": [
    "sns.regplot('daysOpenLastYear', 'AdultWeekend', data=df2)\n",
    "plt.xlabel('daysOpenLastYear')\n",
    "plt.ylabel('Price of ticket at weekend')\n",
    "plt.title('Relationship b/w days open last year & ticket price')\n",
    "plt.show()"
   ]
  },
  {
   "cell_type": "code",
   "execution_count": 38,
   "metadata": {
    "colab": {},
    "colab_type": "code",
    "id": "OYZB84hYGUZU"
   },
   "outputs": [
    {
     "data": {
      "image/png": "[encoded data removed]",
      "text/plain": [
       "<Figure size 432x288 with 1 Axes>"
      ]
     },
     "metadata": {
      "needs_background": "light"
     },
     "output_type": "display_data"
    }
   ],
   "source": [
    "sns.regplot('projectedDaysOpen', 'AdultWeekend', data=df2)\n",
    "plt.xlabel('projectedDaysOpen')\n",
    "plt.ylabel('Price of ticket at weekend')\n",
    "plt.title('Relationship b/w projected days open & ticket price')\n",
    "plt.show()"
   ]
  },
  {
   "cell_type": "markdown",
   "metadata": {
    "colab_type": "text",
    "id": "giLKE2WMGUZh"
   },
   "source": [
    "## Finalize Code"
   ]
  },
  {
   "cell_type": "markdown",
   "metadata": {
    "colab_type": "text",
    "id": "pps_ASHoGUZi"
   },
   "source": [
    " Making sure our code is well organized and easy to follow is an important step. This is the time where you need to review the notebooks and Python scripts you've created and clean them up so they are easy to follow and succinct in nature. Addtionally, we will also save our final model as a callable object using Pickle for future use in a data pipeline. Pickle is a module that serializes (and de-serializes) Python objects so that they can become executable objects like functions. It's used extensively in production environments where machine learning models are deployed on an industrial scale!**<font color='teal'> Run the example code below to save out your callable model. Notice that we save it in the models folder we created in our previous guided capstone step.</font>** "
   ]
  },
  {
   "cell_type": "code",
   "execution_count": 10,
   "metadata": {
    "colab": {},
    "colab_type": "code",
    "id": "X_h0tkt_GUZj"
   },
   "outputs": [
    {
     "data": {
      "text/plain": [
       "['D:/Springboard/Technical Project/4_Guided Capstone Project/2_Data Wrangling\\\\model/regression_model_adultweekend.joblib']"
      ]
     },
     "execution_count": 10,
     "metadata": {},
     "output_type": "execute_result"
    }
   ],
   "source": [
    "import pickle\n",
    "s = pickle.dumps(model2)\n",
    "from joblib import dump, load\n",
    "dump(model2, 'D:/Springboard/Technical Project/4_Guided Capstone Project/2_Data Wrangling\\model/regression_model_adultweekend.joblib') "
   ]
  },
  {
   "cell_type": "markdown",
   "metadata": {
    "colab_type": "text",
    "id": "MTVrVlerGUZn"
   },
   "source": [
    "## Finalize Documentation"
   ]
  },
  {
   "cell_type": "markdown",
   "metadata": {
    "colab_type": "text",
    "id": "thEMyu-DGUZo"
   },
   "source": [
    "For model documentation, we want to save the model performance metrics as well as the features included in the final model. You could also save the model perfomance metrics and coefficients fo the other models you tried in case you want to refer to them later. **<font color='teal'> Create a dataframe containing the coefficients and the model performance metrics and save it out as a csv file, then upload it to your github repository.</font>** "
   ]
  },
  {
   "cell_type": "code",
   "execution_count": 30,
   "metadata": {
    "colab": {},
    "colab_type": "code",
    "id": "278tnHLlGUZp"
   },
   "outputs": [
    {
     "name": "stdout",
     "output_type": "stream",
     "text": [
      "                      Coefficient\n",
      "AdultWeekday         1.074045e+01\n",
      "clusters             3.382737e+00\n",
      "daysOpenLastYear     3.338655e+00\n",
      "Runs                 1.895608e+00\n",
      "quad                 1.358054e+00\n",
      "double               8.939274e-01\n",
      "total_chairs         5.896647e-01\n",
      "NightSkiing_ac       4.351204e-01\n",
      "LongestRun_mi        3.915734e-01\n",
      "vertical_drop        3.786582e-01\n",
      "TerrainParks         3.070557e-01\n",
      "triple               2.945626e-01\n",
      "trams                2.664535e-15\n",
      "fastEight           -4.440892e-16\n",
      "fastSixes           -8.881784e-16\n",
      "SkiableTerrain_ac   -2.419213e-02\n",
      "Snow Making_ac      -8.885219e-02\n",
      "fastQuads           -2.139279e-01\n",
      "yearsOpen           -3.646325e-01\n",
      "surface             -6.498532e-01\n",
      "averageSnowfall     -1.637446e+00\n",
      "projectedDaysOpen   -2.364513e+00\n",
      "summit_elev         -2.829727e+00\n",
      "Mean Absolute Error  6.446868e+00\n",
      "R-square value       7.312444e-01\n"
     ]
    }
   ],
   "source": [
    "model_desc = pd.DataFrame((lm2.coef_), X2.columns, columns=['Coefficient']).sort_values('Coefficient', ascending=False)\n",
    "per_met = pd.DataFrame([eabs_2, r2_2], ['Mean Absolute Error', 'R-square value'], columns=['Coefficient'])\n",
    "model_desc = pd.concat([model_desc, per_met], axis=0)\n",
    "print(model_desc)"
   ]
  },
  {
   "cell_type": "code",
   "execution_count": 32,
   "metadata": {
    "colab": {},
    "colab_type": "code",
    "id": "4CEOoBLFGUZr"
   },
   "outputs": [],
   "source": [
    "model_desc.to_csv('D:\\\\Springboard\\\\Technical Project\\\\4_Guided Capstone Project\\\\2_Data Wrangling\\\\data\\\\model_description.csv')"
   ]
  }
 ],
 "metadata": {
  "colab": {
   "collapsed_sections": [
    "RtEspslPZyGY",
    "s0DokMkAZyGc",
    "2iuitnKcZyHS",
    "iAWQxougZyHW",
    "ThMTimlBZyHZ",
    "QwZ-LkjXZyHt",
    "srtXEA3N4-Y9",
    "ChVreJupZyIA",
    "zDgSSsq1ZyID",
    "I3GYKWfi5Llg",
    "pmMvrhbI-viE",
    "ZXDPkW3UZyIX",
    "Dnc_vHQLZyId",
    "daJxuJ-dZyIg",
    "mAQ-oHiPZyIn",
    "hnGOsp3mZyIp"
   ],
   "name": "GuidedCapstoneStep6.ipynb",
   "provenance": [],
   "toc_visible": true
  },
  "kernelspec": {
   "display_name": "Python 3",
   "language": "python",
   "name": "python3"
  },
  "language_info": {
   "codemirror_mode": {
    "name": "ipython",
    "version": 3
   },
   "file_extension": ".py",
   "mimetype": "text/x-python",
   "name": "python",
   "nbconvert_exporter": "python",
   "pygments_lexer": "ipython3",
   "version": "3.7.6"
  },
  "toc": {
   "base_numbering": "0",
   "nav_menu": {},
   "number_sections": true,
   "sideBar": true,
   "skip_h1_title": false,
   "title_cell": "Table of Contents",
   "title_sidebar": "Contents",
   "toc_cell": true,
   "toc_position": {
    "height": "calc(100% - 180px)",
    "left": "10px",
    "top": "150px",
    "width": "288px"
   },
   "toc_section_display": true,
   "toc_window_display": true
  }
 },
 "nbformat": 4,
 "nbformat_minor": 1
}
